{
 "cells": [
  {
   "cell_type": "markdown",
   "id": "8442383d",
   "metadata": {},
   "source": [
    "Notes:\n",
    "* The data is for two years: 2023 and 2024\n",
    "* The issuer_bank_name has only value of \"My Favorite Bank\". Possible to drop\n",
    "* Null values seem to be reasonable.\n",
    "    merchant_id = null when payment is automatic like salary  \n",
    "    merchant_mcc = null whenever merchant_id = null  \n",
    "    merchant_city = null Almost always when merchant_id = null  \n",
    "    original amount = null if no conversion to other currency  \n",
    "    wallet_type = null if regular card is used  \n",
    "    pos_entry_mode = unclear what null signifies. When it is null the transaction is either  \n",
    "    \"P2P_OUT\", \"BILL_PAYMENT\", \"SALARY\", \"P2P_IN\"  \n",
    "* There is cases (~739) where we have merchant_city but no merchant_id"
   ]
  },
  {
   "cell_type": "code",
   "execution_count": 2,
   "id": "d6cb6f84",
   "metadata": {},
   "outputs": [],
   "source": [
    "import polars as pl\n",
    "\n",
    "data = pl.read_parquet(\"data/DECENTRATHON_3.0.parquet\")"
   ]
  },
  {
   "cell_type": "code",
   "execution_count": 3,
   "id": "0b917259",
   "metadata": {},
   "outputs": [
    {
     "data": {
      "text/html": [
       "<div><style>\n",
       ".dataframe > thead > tr,\n",
       ".dataframe > tbody > tr {\n",
       "  text-align: right;\n",
       "  white-space: pre-wrap;\n",
       "}\n",
       "</style>\n",
       "<small>shape: (5, 17)</small><table border=\"1\" class=\"dataframe\"><thead><tr><th>transaction_id</th><th>transaction_timestamp</th><th>card_id</th><th>expiry_date</th><th>issuer_bank_name</th><th>merchant_id</th><th>merchant_mcc</th><th>mcc_category</th><th>merchant_city</th><th>transaction_type</th><th>transaction_amount_kzt</th><th>original_amount</th><th>transaction_currency</th><th>acquirer_country_iso</th><th>pos_entry_mode</th><th>wallet_type</th><th>__index_level_0__</th></tr><tr><td>str</td><td>datetime[ns]</td><td>i64</td><td>str</td><td>str</td><td>i64</td><td>i64</td><td>str</td><td>str</td><td>str</td><td>f64</td><td>f64</td><td>str</td><td>str</td><td>str</td><td>str</td><td>i64</td></tr></thead><tbody><tr><td>&quot;ffb21bbd-fef1-4983-9774-3b01c8…</td><td>2023-08-12 23:14:19.043176</td><td>10000</td><td>&quot;09/26&quot;</td><td>&quot;My Favorite Bank&quot;</td><td>50359</td><td>5499</td><td>&quot;Grocery &amp; Food Markets&quot;</td><td>&quot;Shymkent&quot;</td><td>&quot;POS&quot;</td><td>1237.66</td><td>null</td><td>&quot;KZT&quot;</td><td>&quot;KAZ&quot;</td><td>&quot;Contactless&quot;</td><td>&quot;Apple Pay&quot;</td><td>0</td></tr><tr><td>&quot;acd754f9-bd4c-416d-babc-926050…</td><td>2023-08-12 17:07:08.641030</td><td>10000</td><td>&quot;09/26&quot;</td><td>&quot;My Favorite Bank&quot;</td><td>50359</td><td>5499</td><td>&quot;Grocery &amp; Food Markets&quot;</td><td>&quot;Shymkent&quot;</td><td>&quot;POS&quot;</td><td>2328.03</td><td>null</td><td>&quot;KZT&quot;</td><td>&quot;KAZ&quot;</td><td>&quot;QR_Code&quot;</td><td>&quot;Bank&#x27;s QR&quot;</td><td>1</td></tr><tr><td>&quot;b023697b-eb35-40e6-af75-3586c6…</td><td>2023-08-12 08:45:32.946846</td><td>10000</td><td>&quot;09/26&quot;</td><td>&quot;My Favorite Bank&quot;</td><td>50214</td><td>4814</td><td>&quot;Utilities &amp; Bill Payments&quot;</td><td>&quot;Almaty&quot;</td><td>&quot;BILL_PAYMENT&quot;</td><td>53871.78</td><td>null</td><td>&quot;KZT&quot;</td><td>&quot;KAZ&quot;</td><td>null</td><td>null</td><td>2</td></tr><tr><td>&quot;d59d8537-1e48-41b5-91e1-dc7cf9…</td><td>2023-08-12 10:20:20.242510</td><td>10000</td><td>&quot;09/26&quot;</td><td>&quot;My Favorite Bank&quot;</td><td>50279</td><td>8011</td><td>&quot;Pharmacies &amp; Health&quot;</td><td>&quot;Shymkent&quot;</td><td>&quot;POS&quot;</td><td>22501.56</td><td>null</td><td>&quot;KZT&quot;</td><td>&quot;KAZ&quot;</td><td>&quot;Contactless&quot;</td><td>&quot;Apple Pay&quot;</td><td>3</td></tr><tr><td>&quot;85d2eef6-3b09-47a6-987f-f45ab4…</td><td>2023-08-12 00:42:00.556252</td><td>10000</td><td>&quot;09/26&quot;</td><td>&quot;My Favorite Bank&quot;</td><td>50332</td><td>5499</td><td>&quot;Grocery &amp; Food Markets&quot;</td><td>&quot;Almaty&quot;</td><td>&quot;POS&quot;</td><td>1224.04</td><td>null</td><td>&quot;KZT&quot;</td><td>&quot;KAZ&quot;</td><td>&quot;QR_Code&quot;</td><td>&quot;Bank&#x27;s QR&quot;</td><td>4</td></tr></tbody></table></div>"
      ],
      "text/plain": [
       "shape: (5, 17)\n",
       "┌────────────┬───────────┬─────────┬───────────┬───┬───────────┬───────────┬───────────┬───────────┐\n",
       "│ transactio ┆ transacti ┆ card_id ┆ expiry_da ┆ … ┆ acquirer_ ┆ pos_entry ┆ wallet_ty ┆ __index_l │\n",
       "│ n_id       ┆ on_timest ┆ ---     ┆ te        ┆   ┆ country_i ┆ _mode     ┆ pe        ┆ evel_0__  │\n",
       "│ ---        ┆ amp       ┆ i64     ┆ ---       ┆   ┆ so        ┆ ---       ┆ ---       ┆ ---       │\n",
       "│ str        ┆ ---       ┆         ┆ str       ┆   ┆ ---       ┆ str       ┆ str       ┆ i64       │\n",
       "│            ┆ datetime[ ┆         ┆           ┆   ┆ str       ┆           ┆           ┆           │\n",
       "│            ┆ ns]       ┆         ┆           ┆   ┆           ┆           ┆           ┆           │\n",
       "╞════════════╪═══════════╪═════════╪═══════════╪═══╪═══════════╪═══════════╪═══════════╪═══════════╡\n",
       "│ ffb21bbd-f ┆ 2023-08-1 ┆ 10000   ┆ 09/26     ┆ … ┆ KAZ       ┆ Contactle ┆ Apple Pay ┆ 0         │\n",
       "│ ef1-4983-9 ┆ 2 23:14:1 ┆         ┆           ┆   ┆           ┆ ss        ┆           ┆           │\n",
       "│ 774-3b01c8 ┆ 9.043176  ┆         ┆           ┆   ┆           ┆           ┆           ┆           │\n",
       "│ …          ┆           ┆         ┆           ┆   ┆           ┆           ┆           ┆           │\n",
       "│ acd754f9-b ┆ 2023-08-1 ┆ 10000   ┆ 09/26     ┆ … ┆ KAZ       ┆ QR_Code   ┆ Bank's QR ┆ 1         │\n",
       "│ d4c-416d-b ┆ 2 17:07:0 ┆         ┆           ┆   ┆           ┆           ┆           ┆           │\n",
       "│ abc-926050 ┆ 8.641030  ┆         ┆           ┆   ┆           ┆           ┆           ┆           │\n",
       "│ …          ┆           ┆         ┆           ┆   ┆           ┆           ┆           ┆           │\n",
       "│ b023697b-e ┆ 2023-08-1 ┆ 10000   ┆ 09/26     ┆ … ┆ KAZ       ┆ null      ┆ null      ┆ 2         │\n",
       "│ b35-40e6-a ┆ 2 08:45:3 ┆         ┆           ┆   ┆           ┆           ┆           ┆           │\n",
       "│ f75-3586c6 ┆ 2.946846  ┆         ┆           ┆   ┆           ┆           ┆           ┆           │\n",
       "│ …          ┆           ┆         ┆           ┆   ┆           ┆           ┆           ┆           │\n",
       "│ d59d8537-1 ┆ 2023-08-1 ┆ 10000   ┆ 09/26     ┆ … ┆ KAZ       ┆ Contactle ┆ Apple Pay ┆ 3         │\n",
       "│ e48-41b5-9 ┆ 2 10:20:2 ┆         ┆           ┆   ┆           ┆ ss        ┆           ┆           │\n",
       "│ 1e1-dc7cf9 ┆ 0.242510  ┆         ┆           ┆   ┆           ┆           ┆           ┆           │\n",
       "│ …          ┆           ┆         ┆           ┆   ┆           ┆           ┆           ┆           │\n",
       "│ 85d2eef6-3 ┆ 2023-08-1 ┆ 10000   ┆ 09/26     ┆ … ┆ KAZ       ┆ QR_Code   ┆ Bank's QR ┆ 4         │\n",
       "│ b09-47a6-9 ┆ 2 00:42:0 ┆         ┆           ┆   ┆           ┆           ┆           ┆           │\n",
       "│ 87f-f45ab4 ┆ 0.556252  ┆         ┆           ┆   ┆           ┆           ┆           ┆           │\n",
       "│ …          ┆           ┆         ┆           ┆   ┆           ┆           ┆           ┆           │\n",
       "└────────────┴───────────┴─────────┴───────────┴───┴───────────┴───────────┴───────────┴───────────┘"
      ]
     },
     "execution_count": 3,
     "metadata": {},
     "output_type": "execute_result"
    }
   ],
   "source": [
    "data.head()"
   ]
  },
  {
   "cell_type": "code",
   "execution_count": 4,
   "id": "f0ba0cb3",
   "metadata": {},
   "outputs": [
    {
     "data": {
      "text/html": [
       "<div><style>\n",
       ".dataframe > thead > tr,\n",
       ".dataframe > tbody > tr {\n",
       "  text-align: right;\n",
       "  white-space: pre-wrap;\n",
       "}\n",
       "</style>\n",
       "<small>shape: (9, 18)</small><table border=\"1\" class=\"dataframe\"><thead><tr><th>statistic</th><th>transaction_id</th><th>transaction_timestamp</th><th>card_id</th><th>expiry_date</th><th>issuer_bank_name</th><th>merchant_id</th><th>merchant_mcc</th><th>mcc_category</th><th>merchant_city</th><th>transaction_type</th><th>transaction_amount_kzt</th><th>original_amount</th><th>transaction_currency</th><th>acquirer_country_iso</th><th>pos_entry_mode</th><th>wallet_type</th><th>__index_level_0__</th></tr><tr><td>str</td><td>str</td><td>str</td><td>f64</td><td>str</td><td>str</td><td>f64</td><td>f64</td><td>str</td><td>str</td><td>str</td><td>f64</td><td>f64</td><td>str</td><td>str</td><td>str</td><td>str</td><td>f64</td></tr></thead><tbody><tr><td>&quot;count&quot;</td><td>&quot;11536850&quot;</td><td>&quot;11536850&quot;</td><td>1.153685e7</td><td>&quot;11536850&quot;</td><td>&quot;11536850&quot;</td><td>9.066814e6</td><td>9.066814e6</td><td>&quot;11536850&quot;</td><td>&quot;9067553&quot;</td><td>&quot;11536850&quot;</td><td>1.153685e7</td><td>5417.0</td><td>&quot;11536850&quot;</td><td>&quot;11536850&quot;</td><td>&quot;8883438&quot;</td><td>&quot;6863356&quot;</td><td>1.153685e7</td></tr><tr><td>&quot;null_count&quot;</td><td>&quot;0&quot;</td><td>&quot;0&quot;</td><td>0.0</td><td>&quot;0&quot;</td><td>&quot;0&quot;</td><td>2.470036e6</td><td>2.470036e6</td><td>&quot;0&quot;</td><td>&quot;2469297&quot;</td><td>&quot;0&quot;</td><td>0.0</td><td>1.1531433e7</td><td>&quot;0&quot;</td><td>&quot;0&quot;</td><td>&quot;2653412&quot;</td><td>&quot;4673494&quot;</td><td>0.0</td></tr><tr><td>&quot;mean&quot;</td><td>null</td><td>&quot;2024-04-23 10:50:42.587606&quot;</td><td>11003.031321</td><td>null</td><td>null</td><td>50249.453106</td><td>5644.688338</td><td>null</td><td>null</td><td>null</td><td>20166.686882</td><td>74316.000809</td><td>null</td><td>null</td><td>null</td><td>null</td><td>5768424.5</td></tr><tr><td>&quot;std&quot;</td><td>null</td><td>null</td><td>580.572998</td><td>null</td><td>null</td><td>143.985954</td><td>1030.229349</td><td>null</td><td>null</td><td>null</td><td>81305.720721</td><td>575082.106378</td><td>null</td><td>null</td><td>null</td><td>null</td><td>3.3304e6</td></tr><tr><td>&quot;min&quot;</td><td>&quot;0000013f-41fa-4e8e-b029-df002c…</td><td>&quot;2023-01-01 00:30:12.551745&quot;</td><td>10000.0</td><td>&quot;01/25&quot;</td><td>&quot;My Favorite Bank&quot;</td><td>50000.0</td><td>3000.0</td><td>&quot;Clothing &amp; Apparel&quot;</td><td>&quot;Aktobe&quot;</td><td>&quot;ATM_WITHDRAWAL&quot;</td><td>100.0</td><td>0.21</td><td>&quot;AED&quot;</td><td>&quot;ARE&quot;</td><td>&quot;Chip&quot;</td><td>&quot;Apple Pay&quot;</td><td>0.0</td></tr><tr><td>&quot;25%&quot;</td><td>null</td><td>&quot;2023-12-21 14:19:07.908075&quot;</td><td>10494.0</td><td>null</td><td>null</td><td>50126.0</td><td>5200.0</td><td>null</td><td>null</td><td>null</td><td>2140.45</td><td>28.8</td><td>null</td><td>null</td><td>null</td><td>null</td><td>2.884212e6</td></tr><tr><td>&quot;50%&quot;</td><td>null</td><td>&quot;2024-05-19 05:29:53.788712&quot;</td><td>10998.0</td><td>null</td><td>null</td><td>50248.0</td><td>5499.0</td><td>null</td><td>null</td><td>null</td><td>6070.66</td><td>164.78</td><td>null</td><td>null</td><td>null</td><td>null</td><td>5.768425e6</td></tr><tr><td>&quot;75%&quot;</td><td>null</td><td>&quot;2024-09-17 17:55:15.468680&quot;</td><td>11504.0</td><td>null</td><td>null</td><td>50375.0</td><td>5812.0</td><td>null</td><td>null</td><td>null</td><td>19259.91</td><td>2086.07</td><td>null</td><td>null</td><td>null</td><td>null</td><td>8.652637e6</td></tr><tr><td>&quot;max&quot;</td><td>&quot;fffffe8e-4a4f-4ba7-990c-19c995…</td><td>&quot;2024-12-31 23:59:35.437993&quot;</td><td>11999.0</td><td>&quot;12/29&quot;</td><td>&quot;My Favorite Bank&quot;</td><td>50499.0</td><td>9311.0</td><td>&quot;Utilities &amp; Bill Payments&quot;</td><td>&quot;Shymkent&quot;</td><td>&quot;SALARY&quot;</td><td>3.4073e7</td><td>2.7190e7</td><td>&quot;UZS&quot;</td><td>&quot;UZB&quot;</td><td>&quot;Swipe&quot;</td><td>&quot;Samsung Pay&quot;</td><td>1.1536849e7</td></tr></tbody></table></div>"
      ],
      "text/plain": [
       "shape: (9, 18)\n",
       "┌───────────┬───────────┬───────────┬───────────┬───┬───────────┬───────────┬───────────┬──────────┐\n",
       "│ statistic ┆ transacti ┆ transacti ┆ card_id   ┆ … ┆ acquirer_ ┆ pos_entry ┆ wallet_ty ┆ __index_ │\n",
       "│ ---       ┆ on_id     ┆ on_timest ┆ ---       ┆   ┆ country_i ┆ _mode     ┆ pe        ┆ level_0_ │\n",
       "│ str       ┆ ---       ┆ amp       ┆ f64       ┆   ┆ so        ┆ ---       ┆ ---       ┆ _        │\n",
       "│           ┆ str       ┆ ---       ┆           ┆   ┆ ---       ┆ str       ┆ str       ┆ ---      │\n",
       "│           ┆           ┆ str       ┆           ┆   ┆ str       ┆           ┆           ┆ f64      │\n",
       "╞═══════════╪═══════════╪═══════════╪═══════════╪═══╪═══════════╪═══════════╪═══════════╪══════════╡\n",
       "│ count     ┆ 11536850  ┆ 11536850  ┆ 1.153685e ┆ … ┆ 11536850  ┆ 8883438   ┆ 6863356   ┆ 1.153685 │\n",
       "│           ┆           ┆           ┆ 7         ┆   ┆           ┆           ┆           ┆ e7       │\n",
       "│ null_coun ┆ 0         ┆ 0         ┆ 0.0       ┆ … ┆ 0         ┆ 2653412   ┆ 4673494   ┆ 0.0      │\n",
       "│ t         ┆           ┆           ┆           ┆   ┆           ┆           ┆           ┆          │\n",
       "│ mean      ┆ null      ┆ 2024-04-2 ┆ 11003.031 ┆ … ┆ null      ┆ null      ┆ null      ┆ 5768424. │\n",
       "│           ┆           ┆ 3 10:50:4 ┆ 321       ┆   ┆           ┆           ┆           ┆ 5        │\n",
       "│           ┆           ┆ 2.587606  ┆           ┆   ┆           ┆           ┆           ┆          │\n",
       "│ std       ┆ null      ┆ null      ┆ 580.57299 ┆ … ┆ null      ┆ null      ┆ null      ┆ 3.3304e6 │\n",
       "│           ┆           ┆           ┆ 8         ┆   ┆           ┆           ┆           ┆          │\n",
       "│ min       ┆ 0000013f- ┆ 2023-01-0 ┆ 10000.0   ┆ … ┆ ARE       ┆ Chip      ┆ Apple Pay ┆ 0.0      │\n",
       "│           ┆ 41fa-4e8e ┆ 1 00:30:1 ┆           ┆   ┆           ┆           ┆           ┆          │\n",
       "│           ┆ -b029-df0 ┆ 2.551745  ┆           ┆   ┆           ┆           ┆           ┆          │\n",
       "│           ┆ 02c…      ┆           ┆           ┆   ┆           ┆           ┆           ┆          │\n",
       "│ 25%       ┆ null      ┆ 2023-12-2 ┆ 10494.0   ┆ … ┆ null      ┆ null      ┆ null      ┆ 2.884212 │\n",
       "│           ┆           ┆ 1 14:19:0 ┆           ┆   ┆           ┆           ┆           ┆ e6       │\n",
       "│           ┆           ┆ 7.908075  ┆           ┆   ┆           ┆           ┆           ┆          │\n",
       "│ 50%       ┆ null      ┆ 2024-05-1 ┆ 10998.0   ┆ … ┆ null      ┆ null      ┆ null      ┆ 5.768425 │\n",
       "│           ┆           ┆ 9 05:29:5 ┆           ┆   ┆           ┆           ┆           ┆ e6       │\n",
       "│           ┆           ┆ 3.788712  ┆           ┆   ┆           ┆           ┆           ┆          │\n",
       "│ 75%       ┆ null      ┆ 2024-09-1 ┆ 11504.0   ┆ … ┆ null      ┆ null      ┆ null      ┆ 8.652637 │\n",
       "│           ┆           ┆ 7 17:55:1 ┆           ┆   ┆           ┆           ┆           ┆ e6       │\n",
       "│           ┆           ┆ 5.468680  ┆           ┆   ┆           ┆           ┆           ┆          │\n",
       "│ max       ┆ fffffe8e- ┆ 2024-12-3 ┆ 11999.0   ┆ … ┆ UZB       ┆ Swipe     ┆ Samsung   ┆ 1.153684 │\n",
       "│           ┆ 4a4f-4ba7 ┆ 1 23:59:3 ┆           ┆   ┆           ┆           ┆ Pay       ┆ 9e7      │\n",
       "│           ┆ -990c-19c ┆ 5.437993  ┆           ┆   ┆           ┆           ┆           ┆          │\n",
       "│           ┆ 995…      ┆           ┆           ┆   ┆           ┆           ┆           ┆          │\n",
       "└───────────┴───────────┴───────────┴───────────┴───┴───────────┴───────────┴───────────┴──────────┘"
      ]
     },
     "execution_count": 4,
     "metadata": {},
     "output_type": "execute_result"
    }
   ],
   "source": [
    "data.describe()"
   ]
  },
  {
   "cell_type": "code",
   "execution_count": 5,
   "id": "0f3b316c",
   "metadata": {},
   "outputs": [
    {
     "data": {
      "text/html": [
       "<div><style>\n",
       ".dataframe > thead > tr,\n",
       ".dataframe > tbody > tr {\n",
       "  text-align: right;\n",
       "  white-space: pre-wrap;\n",
       "}\n",
       "</style>\n",
       "<small>shape: (1, 17)</small><table border=\"1\" class=\"dataframe\"><thead><tr><th>transaction_id</th><th>transaction_timestamp</th><th>card_id</th><th>expiry_date</th><th>issuer_bank_name</th><th>merchant_id</th><th>merchant_mcc</th><th>mcc_category</th><th>merchant_city</th><th>transaction_type</th><th>transaction_amount_kzt</th><th>original_amount</th><th>transaction_currency</th><th>acquirer_country_iso</th><th>pos_entry_mode</th><th>wallet_type</th><th>__index_level_0__</th></tr><tr><td>u32</td><td>u32</td><td>u32</td><td>u32</td><td>u32</td><td>u32</td><td>u32</td><td>u32</td><td>u32</td><td>u32</td><td>u32</td><td>u32</td><td>u32</td><td>u32</td><td>u32</td><td>u32</td><td>u32</td></tr></thead><tbody><tr><td>0</td><td>0</td><td>0</td><td>0</td><td>0</td><td>2470036</td><td>2470036</td><td>0</td><td>2469297</td><td>0</td><td>0</td><td>11531433</td><td>0</td><td>0</td><td>2653412</td><td>4673494</td><td>0</td></tr></tbody></table></div>"
      ],
      "text/plain": [
       "shape: (1, 17)\n",
       "┌────────────┬───────────┬─────────┬───────────┬───┬───────────┬───────────┬───────────┬───────────┐\n",
       "│ transactio ┆ transacti ┆ card_id ┆ expiry_da ┆ … ┆ acquirer_ ┆ pos_entry ┆ wallet_ty ┆ __index_l │\n",
       "│ n_id       ┆ on_timest ┆ ---     ┆ te        ┆   ┆ country_i ┆ _mode     ┆ pe        ┆ evel_0__  │\n",
       "│ ---        ┆ amp       ┆ u32     ┆ ---       ┆   ┆ so        ┆ ---       ┆ ---       ┆ ---       │\n",
       "│ u32        ┆ ---       ┆         ┆ u32       ┆   ┆ ---       ┆ u32       ┆ u32       ┆ u32       │\n",
       "│            ┆ u32       ┆         ┆           ┆   ┆ u32       ┆           ┆           ┆           │\n",
       "╞════════════╪═══════════╪═════════╪═══════════╪═══╪═══════════╪═══════════╪═══════════╪═══════════╡\n",
       "│ 0          ┆ 0         ┆ 0       ┆ 0         ┆ … ┆ 0         ┆ 2653412   ┆ 4673494   ┆ 0         │\n",
       "└────────────┴───────────┴─────────┴───────────┴───┴───────────┴───────────┴───────────┴───────────┘"
      ]
     },
     "execution_count": 5,
     "metadata": {},
     "output_type": "execute_result"
    }
   ],
   "source": [
    "data.null_count()"
   ]
  },
  {
   "cell_type": "code",
   "execution_count": 7,
   "id": "7195e2d2",
   "metadata": {},
   "outputs": [
    {
     "data": {
      "text/html": [
       "\n",
       "<style>\n",
       "  #altair-viz-1a917ef66aed43fabebe5e4ebc063423.vega-embed {\n",
       "    width: 100%;\n",
       "    display: flex;\n",
       "  }\n",
       "\n",
       "  #altair-viz-1a917ef66aed43fabebe5e4ebc063423.vega-embed details,\n",
       "  #altair-viz-1a917ef66aed43fabebe5e4ebc063423.vega-embed details summary {\n",
       "    position: relative;\n",
       "  }\n",
       "</style>\n",
       "<div id=\"altair-viz-1a917ef66aed43fabebe5e4ebc063423\"></div>\n",
       "<script type=\"text/javascript\">\n",
       "  var VEGA_DEBUG = (typeof VEGA_DEBUG == \"undefined\") ? {} : VEGA_DEBUG;\n",
       "  (function(spec, embedOpt){\n",
       "    let outputDiv = document.currentScript.previousElementSibling;\n",
       "    if (outputDiv.id !== \"altair-viz-1a917ef66aed43fabebe5e4ebc063423\") {\n",
       "      outputDiv = document.getElementById(\"altair-viz-1a917ef66aed43fabebe5e4ebc063423\");\n",
       "    }\n",
       "\n",
       "    const paths = {\n",
       "      \"vega\": \"https://cdn.jsdelivr.net/npm/vega@5?noext\",\n",
       "      \"vega-lib\": \"https://cdn.jsdelivr.net/npm/vega-lib?noext\",\n",
       "      \"vega-lite\": \"https://cdn.jsdelivr.net/npm/vega-lite@5.20.1?noext\",\n",
       "      \"vega-embed\": \"https://cdn.jsdelivr.net/npm/vega-embed@6?noext\",\n",
       "    };\n",
       "\n",
       "    function maybeLoadScript(lib, version) {\n",
       "      var key = `${lib.replace(\"-\", \"\")}_version`;\n",
       "      return (VEGA_DEBUG[key] == version) ?\n",
       "        Promise.resolve(paths[lib]) :\n",
       "        new Promise(function(resolve, reject) {\n",
       "          var s = document.createElement('script');\n",
       "          document.getElementsByTagName(\"head\")[0].appendChild(s);\n",
       "          s.async = true;\n",
       "          s.onload = () => {\n",
       "            VEGA_DEBUG[key] = version;\n",
       "            return resolve(paths[lib]);\n",
       "          };\n",
       "          s.onerror = () => reject(`Error loading script: ${paths[lib]}`);\n",
       "          s.src = paths[lib];\n",
       "        });\n",
       "    }\n",
       "\n",
       "    function showError(err) {\n",
       "      outputDiv.innerHTML = `<div class=\"error\" style=\"color:red;\">${err}</div>`;\n",
       "      throw err;\n",
       "    }\n",
       "\n",
       "    function displayChart(vegaEmbed) {\n",
       "      vegaEmbed(outputDiv, spec, embedOpt)\n",
       "        .catch(err => showError(`Javascript Error: ${err.message}<br>This usually means there's a typo in your chart specification. See the javascript console for the full traceback.`));\n",
       "    }\n",
       "\n",
       "    if(typeof define === \"function\" && define.amd) {\n",
       "      requirejs.config({paths});\n",
       "      let deps = [\"vega-embed\"];\n",
       "      require(deps, displayChart, err => showError(`Error loading script: ${err.message}`));\n",
       "    } else {\n",
       "      maybeLoadScript(\"vega\", \"5\")\n",
       "        .then(() => maybeLoadScript(\"vega-lite\", \"5.20.1\"))\n",
       "        .then(() => maybeLoadScript(\"vega-embed\", \"6\"))\n",
       "        .catch(showError)\n",
       "        .then(() => displayChart(vegaEmbed));\n",
       "    }\n",
       "  })({\"config\": {\"view\": {\"continuousWidth\": 300, \"continuousHeight\": 300}}, \"data\": {\"name\": \"data-8d85f2a00ab00db57879d4007b178b54\"}, \"mark\": {\"type\": \"bar\", \"tooltip\": true}, \"encoding\": {\"x\": {\"field\": \"mcc_category\", \"type\": \"nominal\"}, \"y\": {\"field\": \"share_in_ttl_trnsc\", \"type\": \"quantitative\"}}, \"params\": [{\"name\": \"param_2\", \"select\": {\"type\": \"interval\", \"encodings\": [\"x\", \"y\"]}, \"bind\": \"scales\"}], \"$schema\": \"https://vega.github.io/schema/vega-lite/v5.20.1.json\", \"datasets\": {\"data-8d85f2a00ab00db57879d4007b178b54\": [{\"mcc_category\": \"Travel & Transportation\", \"transaction_amount_kzt\": 18428385056.330017, \"share_in_ttl_trnsc\": 0.07920734877175684}, {\"mcc_category\": \"Pharmacies & Health\", \"transaction_amount_kzt\": 2449639440.439996, \"share_in_ttl_trnsc\": 0.01052883608253748}, {\"mcc_category\": \"Fuel & Service Stations\", \"transaction_amount_kzt\": 3008753654.0700016, \"share_in_ttl_trnsc\": 0.012931974197291954}, {\"mcc_category\": \"Grocery & Food Markets\", \"transaction_amount_kzt\": 10419744556.520058, \"share_in_ttl_trnsc\": 0.04478527763980096}, {\"mcc_category\": \"Clothing & Apparel\", \"transaction_amount_kzt\": 7446616636.77003, \"share_in_ttl_trnsc\": 0.032006427004606645}, {\"mcc_category\": \"Unknown\", \"transaction_amount_kzt\": 65893852104.17969, \"share_in_ttl_trnsc\": 0.2832194633212062}, {\"mcc_category\": \"Hobby, Books, Sporting Goods\", \"transaction_amount_kzt\": 1845726762.5300014, \"share_in_ttl_trnsc\": 0.0079331489422543}, {\"mcc_category\": \"Services (Other)\", \"transaction_amount_kzt\": 41681122855.87992, \"share_in_ttl_trnsc\": 0.17915032842826895}, {\"mcc_category\": \"Electronics & Software\", \"transaction_amount_kzt\": 22123559524.649967, \"share_in_ttl_trnsc\": 0.09508963970447067}, {\"mcc_category\": \"Home Furnishings & Supplies\", \"transaction_amount_kzt\": 8538407699.679985, \"share_in_ttl_trnsc\": 0.03669907235803611}, {\"mcc_category\": \"General Retail & Department\", \"transaction_amount_kzt\": 10997475684.590014, \"share_in_ttl_trnsc\": 0.04726843342461126}, {\"mcc_category\": \"Dining & Restaurants\", \"transaction_amount_kzt\": 3871236431.009965, \"share_in_ttl_trnsc\": 0.016639025787211457}, {\"mcc_category\": \"Utilities & Bill Payments\", \"transaction_amount_kzt\": 35955521143.70015, \"share_in_ttl_trnsc\": 0.15454102433794586}]}}, {\"mode\": \"vega-lite\"});\n",
       "</script>"
      ],
      "text/plain": [
       "alt.Chart(...)"
      ]
     },
     "execution_count": 7,
     "metadata": {},
     "output_type": "execute_result"
    }
   ],
   "source": [
    "total_transactions = data.get_column(\"transaction_amount_kzt\").sum()\n",
    "\n",
    "transactions_by_category = (data.group_by(\"mcc_category\")\n",
    "                                .agg(pl.col(\"transaction_amount_kzt\").sum())\n",
    "                                .with_columns(\n",
    "                                    (pl.col(\"transaction_amount_kzt\")/total_transactions).alias(\"share_in_ttl_trnsc\")))\n",
    "\n",
    "\n",
    "transactions_by_category.plot.bar(x=\"mcc_category\", y = \"share_in_ttl_trnsc\")"
   ]
  },
  {
   "cell_type": "code",
   "execution_count": 8,
   "id": "fd362d0a",
   "metadata": {},
   "outputs": [
    {
     "data": {
      "text/html": [
       "\n",
       "<style>\n",
       "  #altair-viz-10a5cda4605b4084ab06dbf07527d36b.vega-embed {\n",
       "    width: 100%;\n",
       "    display: flex;\n",
       "  }\n",
       "\n",
       "  #altair-viz-10a5cda4605b4084ab06dbf07527d36b.vega-embed details,\n",
       "  #altair-viz-10a5cda4605b4084ab06dbf07527d36b.vega-embed details summary {\n",
       "    position: relative;\n",
       "  }\n",
       "</style>\n",
       "<div id=\"altair-viz-10a5cda4605b4084ab06dbf07527d36b\"></div>\n",
       "<script type=\"text/javascript\">\n",
       "  var VEGA_DEBUG = (typeof VEGA_DEBUG == \"undefined\") ? {} : VEGA_DEBUG;\n",
       "  (function(spec, embedOpt){\n",
       "    let outputDiv = document.currentScript.previousElementSibling;\n",
       "    if (outputDiv.id !== \"altair-viz-10a5cda4605b4084ab06dbf07527d36b\") {\n",
       "      outputDiv = document.getElementById(\"altair-viz-10a5cda4605b4084ab06dbf07527d36b\");\n",
       "    }\n",
       "\n",
       "    const paths = {\n",
       "      \"vega\": \"https://cdn.jsdelivr.net/npm/vega@5?noext\",\n",
       "      \"vega-lib\": \"https://cdn.jsdelivr.net/npm/vega-lib?noext\",\n",
       "      \"vega-lite\": \"https://cdn.jsdelivr.net/npm/vega-lite@5.20.1?noext\",\n",
       "      \"vega-embed\": \"https://cdn.jsdelivr.net/npm/vega-embed@6?noext\",\n",
       "    };\n",
       "\n",
       "    function maybeLoadScript(lib, version) {\n",
       "      var key = `${lib.replace(\"-\", \"\")}_version`;\n",
       "      return (VEGA_DEBUG[key] == version) ?\n",
       "        Promise.resolve(paths[lib]) :\n",
       "        new Promise(function(resolve, reject) {\n",
       "          var s = document.createElement('script');\n",
       "          document.getElementsByTagName(\"head\")[0].appendChild(s);\n",
       "          s.async = true;\n",
       "          s.onload = () => {\n",
       "            VEGA_DEBUG[key] = version;\n",
       "            return resolve(paths[lib]);\n",
       "          };\n",
       "          s.onerror = () => reject(`Error loading script: ${paths[lib]}`);\n",
       "          s.src = paths[lib];\n",
       "        });\n",
       "    }\n",
       "\n",
       "    function showError(err) {\n",
       "      outputDiv.innerHTML = `<div class=\"error\" style=\"color:red;\">${err}</div>`;\n",
       "      throw err;\n",
       "    }\n",
       "\n",
       "    function displayChart(vegaEmbed) {\n",
       "      vegaEmbed(outputDiv, spec, embedOpt)\n",
       "        .catch(err => showError(`Javascript Error: ${err.message}<br>This usually means there's a typo in your chart specification. See the javascript console for the full traceback.`));\n",
       "    }\n",
       "\n",
       "    if(typeof define === \"function\" && define.amd) {\n",
       "      requirejs.config({paths});\n",
       "      let deps = [\"vega-embed\"];\n",
       "      require(deps, displayChart, err => showError(`Error loading script: ${err.message}`));\n",
       "    } else {\n",
       "      maybeLoadScript(\"vega\", \"5\")\n",
       "        .then(() => maybeLoadScript(\"vega-lite\", \"5.20.1\"))\n",
       "        .then(() => maybeLoadScript(\"vega-embed\", \"6\"))\n",
       "        .catch(showError)\n",
       "        .then(() => displayChart(vegaEmbed));\n",
       "    }\n",
       "  })({\"config\": {\"view\": {\"continuousWidth\": 300, \"continuousHeight\": 300}}, \"data\": {\"name\": \"data-a3c0d53c0dd11684e27a764609152300\"}, \"mark\": {\"type\": \"bar\", \"tooltip\": true}, \"encoding\": {\"x\": {\"field\": \"transaction_type\", \"type\": \"nominal\"}, \"y\": {\"field\": \"share_in_ttl_trnsc\", \"type\": \"quantitative\"}}, \"params\": [{\"name\": \"param_3\", \"select\": {\"type\": \"interval\", \"encodings\": [\"x\", \"y\"]}, \"bind\": \"scales\"}], \"$schema\": \"https://vega.github.io/schema/vega-lite/v5.20.1.json\", \"datasets\": {\"data-a3c0d53c0dd11684e27a764609152300\": [{\"transaction_type\": \"POS\", \"transaction_amount_kzt\": 93948218094.59901, \"share_in_ttl_trnsc\": 0.40380040108549375}, {\"transaction_type\": \"ECOM\", \"transaction_amount_kzt\": 40676086215.93013, \"share_in_ttl_trnsc\": 0.1748305637052308}, {\"transaction_type\": \"ATM_WITHDRAWAL\", \"transaction_amount_kzt\": 38492500000.0, \"share_in_ttl_trnsc\": 0.16544525541860103}, {\"transaction_type\": \"BILL_PAYMENT\", \"transaction_amount_kzt\": 32141885135.64014, \"share_in_ttl_trnsc\": 0.1381495718880644}, {\"transaction_type\": \"P2P_OUT\", \"transaction_amount_kzt\": 11697332903.66996, \"share_in_ttl_trnsc\": 0.05027650139544281}, {\"transaction_type\": \"P2P_IN\", \"transaction_amount_kzt\": 10895237346.510033, \"share_in_ttl_trnsc\": 0.04682900112072828}, {\"transaction_type\": \"SALARY\", \"transaction_amount_kzt\": 4808781854.0, \"share_in_ttl_trnsc\": 0.020668705386435376}]}}, {\"mode\": \"vega-lite\"});\n",
       "</script>"
      ],
      "text/plain": [
       "alt.Chart(...)"
      ]
     },
     "execution_count": 8,
     "metadata": {},
     "output_type": "execute_result"
    }
   ],
   "source": [
    "transactions_by_type = (data.group_by(\"transaction_type\")\n",
    "                                .agg(pl.col(\"transaction_amount_kzt\").sum())\n",
    "                                .with_columns(\n",
    "                                    (pl.col(\"transaction_amount_kzt\")/total_transactions).alias(\"share_in_ttl_trnsc\"))\n",
    "                                .sort(by=\"share_in_ttl_trnsc\", descending=True))\n",
    "\n",
    "transactions_by_type.plot.bar(x=\"transaction_type\", y = \"share_in_ttl_trnsc\")"
   ]
  },
  {
   "cell_type": "code",
   "execution_count": null,
   "id": "ee1e280a",
   "metadata": {},
   "outputs": [],
   "source": [
    "clustering_data = data.group_by(\"card_id\").agg(\n",
    "    (pl.col(\"transaction_timestamp\").max()).alias(\"last_trans\"),\n",
    "    (pl.col(\"transaction_amount_kzt\")).alias(\"total_trans\"),\n",
    "    (pl.col(\"transaction_timestamp\").min().alias(\"firs_trans\"))\n",
    ")"
   ]
  },
  {
   "cell_type": "code",
   "execution_count": null,
   "id": "16d159f5",
   "metadata": {},
   "outputs": [
    {
     "data": {
      "text/html": [
       "<div><style>\n",
       ".dataframe > thead > tr,\n",
       ".dataframe > tbody > tr {\n",
       "  text-align: right;\n",
       "  white-space: pre-wrap;\n",
       "}\n",
       "</style>\n",
       "<small>shape: (9, 4)</small><table border=\"1\" class=\"dataframe\"><thead><tr><th>statistic</th><th>card_id</th><th>transaction_timestamp</th><th>last_transac</th></tr><tr><td>str</td><td>f64</td><td>str</td><td>f64</td></tr></thead><tbody><tr><td>&quot;count&quot;</td><td>2000.0</td><td>&quot;2000&quot;</td><td>2000.0</td></tr><tr><td>&quot;null_count&quot;</td><td>0.0</td><td>&quot;0&quot;</td><td>0.0</td></tr><tr><td>&quot;mean&quot;</td><td>10999.5</td><td>&quot;2024-11-22 04:06:03.344196&quot;</td><td>-955.534</td></tr><tr><td>&quot;std&quot;</td><td>577.494589</td><td>null</td><td>2791.774849</td></tr><tr><td>&quot;min&quot;</td><td>10000.0</td><td>&quot;2023-02-01 08:00:00&quot;</td><td>-16792.0</td></tr><tr><td>&quot;25%&quot;</td><td>10500.0</td><td>&quot;2024-12-31 19:30:41.010149&quot;</td><td>-4.0</td></tr><tr><td>&quot;50%&quot;</td><td>11000.0</td><td>&quot;2024-12-31 22:21:06.815404&quot;</td><td>-1.0</td></tr><tr><td>&quot;75%&quot;</td><td>11499.0</td><td>&quot;2024-12-31 23:21:09.397707&quot;</td><td>0.0</td></tr><tr><td>&quot;max&quot;</td><td>11999.0</td><td>&quot;2024-12-31 23:59:35.437993&quot;</td><td>0.0</td></tr></tbody></table></div>"
      ],
      "text/plain": [
       "shape: (9, 4)\n",
       "┌────────────┬────────────┬────────────────────────────┬──────────────┐\n",
       "│ statistic  ┆ card_id    ┆ transaction_timestamp      ┆ last_transac │\n",
       "│ ---        ┆ ---        ┆ ---                        ┆ ---          │\n",
       "│ str        ┆ f64        ┆ str                        ┆ f64          │\n",
       "╞════════════╪════════════╪════════════════════════════╪══════════════╡\n",
       "│ count      ┆ 2000.0     ┆ 2000                       ┆ 2000.0       │\n",
       "│ null_count ┆ 0.0        ┆ 0                          ┆ 0.0          │\n",
       "│ mean       ┆ 10999.5    ┆ 2024-11-22 04:06:03.344196 ┆ -955.534     │\n",
       "│ std        ┆ 577.494589 ┆ null                       ┆ 2791.774849  │\n",
       "│ min        ┆ 10000.0    ┆ 2023-02-01 08:00:00        ┆ -16792.0     │\n",
       "│ 25%        ┆ 10500.0    ┆ 2024-12-31 19:30:41.010149 ┆ -4.0         │\n",
       "│ 50%        ┆ 11000.0    ┆ 2024-12-31 22:21:06.815404 ┆ -1.0         │\n",
       "│ 75%        ┆ 11499.0    ┆ 2024-12-31 23:21:09.397707 ┆ 0.0          │\n",
       "│ max        ┆ 11999.0    ┆ 2024-12-31 23:59:35.437993 ┆ 0.0          │\n",
       "└────────────┴────────────┴────────────────────────────┴──────────────┘"
      ]
     },
     "execution_count": 25,
     "metadata": {},
     "output_type": "execute_result"
    }
   ],
   "source": [
    "reference_date = pl.lit(\"2025-01-01\").str.to_date()\n",
    "\n",
    "clustering_data.with_columns(\n",
    "   last_transac = (pl.col(\"transaction_timestamp\") - reference_date).dt.total_minutes()\n",
    ").describe()"
   ]
  },
  {
   "cell_type": "code",
   "execution_count": 38,
   "id": "4eb0a4ae",
   "metadata": {},
   "outputs": [],
   "source": [
    "pos_transactions = data.pivot(\n",
    "    values=\"transaction_amount_kzt\",\n",
    "    index=\"card_id\",\n",
    "    on=\"pos_entry_mode\",\n",
    "    aggregate_function=\"sum\").rename(lambda c: f\"pos_{c}\" if c !=\"card_id\" else c)"
   ]
  },
  {
   "cell_type": "code",
   "execution_count": 39,
   "id": "2fad011e",
   "metadata": {},
   "outputs": [
    {
     "data": {
      "text/html": [
       "<div><style>\n",
       ".dataframe > thead > tr,\n",
       ".dataframe > tbody > tr {\n",
       "  text-align: right;\n",
       "  white-space: pre-wrap;\n",
       "}\n",
       "</style>\n",
       "<small>shape: (2_000, 7)</small><table border=\"1\" class=\"dataframe\"><thead><tr><th>card_id</th><th>pos_Contactless</th><th>pos_QR_Code</th><th>pos_null</th><th>pos_ECOM</th><th>pos_Swipe</th><th>pos_Chip</th></tr><tr><td>i64</td><td>f64</td><td>f64</td><td>f64</td><td>f64</td><td>f64</td><td>f64</td></tr></thead><tbody><tr><td>10000</td><td>3.5213e7</td><td>3.2864e7</td><td>5.0410e7</td><td>2.5176e7</td><td>3.4890e6</td><td>2.3184e7</td></tr><tr><td>10001</td><td>5.0784e6</td><td>4.1942e6</td><td>3.9633e6</td><td>1.0824e7</td><td>51168.43</td><td>4.6520e6</td></tr><tr><td>10002</td><td>1.175e6</td><td>652721.12</td><td>3.7907e6</td><td>1.2838e7</td><td>null</td><td>1.181e6</td></tr><tr><td>10003</td><td>5.3083e6</td><td>3.3663e6</td><td>7.5315e6</td><td>1.4122e6</td><td>106201.04</td><td>3.7400e6</td></tr><tr><td>10004</td><td>1.8393e6</td><td>556085.74</td><td>5.2359e6</td><td>403911.39</td><td>13054.46</td><td>1.7404e6</td></tr><tr><td>&hellip;</td><td>&hellip;</td><td>&hellip;</td><td>&hellip;</td><td>&hellip;</td><td>&hellip;</td><td>&hellip;</td></tr><tr><td>11995</td><td>null</td><td>null</td><td>1.0253e7</td><td>null</td><td>null</td><td>null</td></tr><tr><td>11996</td><td>1.5201e8</td><td>1.5905e8</td><td>5.37422e6</td><td>4.5363e7</td><td>1.5435e7</td><td>7.5829e7</td></tr><tr><td>11997</td><td>4.8508e6</td><td>3.8601e6</td><td>2.7950e7</td><td>3.3509e7</td><td>199516.34</td><td>4861064.8</td></tr><tr><td>11998</td><td>6.2787e7</td><td>2.5779e6</td><td>8.1046e6</td><td>null</td><td>543689.73</td><td>6.2899e7</td></tr><tr><td>11999</td><td>3.1079e7</td><td>1.1618e7</td><td>2.0834e7</td><td>1.1577e7</td><td>354882.57</td><td>2.9330e7</td></tr></tbody></table></div>"
      ],
      "text/plain": [
       "shape: (2_000, 7)\n",
       "┌─────────┬─────────────────┬─────────────┬───────────┬───────────┬───────────┬───────────┐\n",
       "│ card_id ┆ pos_Contactless ┆ pos_QR_Code ┆ pos_null  ┆ pos_ECOM  ┆ pos_Swipe ┆ pos_Chip  │\n",
       "│ ---     ┆ ---             ┆ ---         ┆ ---       ┆ ---       ┆ ---       ┆ ---       │\n",
       "│ i64     ┆ f64             ┆ f64         ┆ f64       ┆ f64       ┆ f64       ┆ f64       │\n",
       "╞═════════╪═════════════════╪═════════════╪═══════════╪═══════════╪═══════════╪═══════════╡\n",
       "│ 10000   ┆ 3.5213e7        ┆ 3.2864e7    ┆ 5.0410e7  ┆ 2.5176e7  ┆ 3.4890e6  ┆ 2.3184e7  │\n",
       "│ 10001   ┆ 5.0784e6        ┆ 4.1942e6    ┆ 3.9633e6  ┆ 1.0824e7  ┆ 51168.43  ┆ 4.6520e6  │\n",
       "│ 10002   ┆ 1.175e6         ┆ 652721.12   ┆ 3.7907e6  ┆ 1.2838e7  ┆ null      ┆ 1.181e6   │\n",
       "│ 10003   ┆ 5.3083e6        ┆ 3.3663e6    ┆ 7.5315e6  ┆ 1.4122e6  ┆ 106201.04 ┆ 3.7400e6  │\n",
       "│ 10004   ┆ 1.8393e6        ┆ 556085.74   ┆ 5.2359e6  ┆ 403911.39 ┆ 13054.46  ┆ 1.7404e6  │\n",
       "│ …       ┆ …               ┆ …           ┆ …         ┆ …         ┆ …         ┆ …         │\n",
       "│ 11995   ┆ null            ┆ null        ┆ 1.0253e7  ┆ null      ┆ null      ┆ null      │\n",
       "│ 11996   ┆ 1.5201e8        ┆ 1.5905e8    ┆ 5.37422e6 ┆ 4.5363e7  ┆ 1.5435e7  ┆ 7.5829e7  │\n",
       "│ 11997   ┆ 4.8508e6        ┆ 3.8601e6    ┆ 2.7950e7  ┆ 3.3509e7  ┆ 199516.34 ┆ 4861064.8 │\n",
       "│ 11998   ┆ 6.2787e7        ┆ 2.5779e6    ┆ 8.1046e6  ┆ null      ┆ 543689.73 ┆ 6.2899e7  │\n",
       "│ 11999   ┆ 3.1079e7        ┆ 1.1618e7    ┆ 2.0834e7  ┆ 1.1577e7  ┆ 354882.57 ┆ 2.9330e7  │\n",
       "└─────────┴─────────────────┴─────────────┴───────────┴───────────┴───────────┴───────────┘"
      ]
     },
     "execution_count": 39,
     "metadata": {},
     "output_type": "execute_result"
    }
   ],
   "source": [
    "pos_transactions"
   ]
  }
 ],
 "metadata": {
  "kernelspec": {
   "display_name": ".venv",
   "language": "python",
   "name": "python3"
  },
  "language_info": {
   "codemirror_mode": {
    "name": "ipython",
    "version": 3
   },
   "file_extension": ".py",
   "mimetype": "text/x-python",
   "name": "python",
   "nbconvert_exporter": "python",
   "pygments_lexer": "ipython3",
   "version": "3.12.10"
  }
 },
 "nbformat": 4,
 "nbformat_minor": 5
}
