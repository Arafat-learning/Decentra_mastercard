{
 "cells": [
  {
   "cell_type": "code",
   "execution_count": 1,
   "id": "d6cb6f84",
   "metadata": {},
   "outputs": [],
   "source": [
    "import polars as pl\n",
    "\n",
    "data = pl.read_parquet(\"data/DECENTRATHON_3.0.parquet\")"
   ]
  },
  {
   "cell_type": "code",
   "execution_count": 3,
   "id": "0f3b316c",
   "metadata": {},
   "outputs": [
    {
     "data": {
      "text/html": [
       "<div><style>\n",
       ".dataframe > thead > tr,\n",
       ".dataframe > tbody > tr {\n",
       "  text-align: right;\n",
       "  white-space: pre-wrap;\n",
       "}\n",
       "</style>\n",
       "<small>shape: (1, 17)</small><table border=\"1\" class=\"dataframe\"><thead><tr><th>transaction_id</th><th>transaction_timestamp</th><th>card_id</th><th>expiry_date</th><th>issuer_bank_name</th><th>merchant_id</th><th>merchant_mcc</th><th>mcc_category</th><th>merchant_city</th><th>transaction_type</th><th>transaction_amount_kzt</th><th>original_amount</th><th>transaction_currency</th><th>acquirer_country_iso</th><th>pos_entry_mode</th><th>wallet_type</th><th>__index_level_0__</th></tr><tr><td>u32</td><td>u32</td><td>u32</td><td>u32</td><td>u32</td><td>u32</td><td>u32</td><td>u32</td><td>u32</td><td>u32</td><td>u32</td><td>u32</td><td>u32</td><td>u32</td><td>u32</td><td>u32</td><td>u32</td></tr></thead><tbody><tr><td>0</td><td>0</td><td>0</td><td>0</td><td>0</td><td>2470036</td><td>2470036</td><td>0</td><td>2469297</td><td>0</td><td>0</td><td>11531433</td><td>0</td><td>0</td><td>2653412</td><td>4673494</td><td>0</td></tr></tbody></table></div>"
      ],
      "text/plain": [
       "shape: (1, 17)\n",
       "┌────────────┬───────────┬─────────┬───────────┬───┬───────────┬───────────┬───────────┬───────────┐\n",
       "│ transactio ┆ transacti ┆ card_id ┆ expiry_da ┆ … ┆ acquirer_ ┆ pos_entry ┆ wallet_ty ┆ __index_l │\n",
       "│ n_id       ┆ on_timest ┆ ---     ┆ te        ┆   ┆ country_i ┆ _mode     ┆ pe        ┆ evel_0__  │\n",
       "│ ---        ┆ amp       ┆ u32     ┆ ---       ┆   ┆ so        ┆ ---       ┆ ---       ┆ ---       │\n",
       "│ u32        ┆ ---       ┆         ┆ u32       ┆   ┆ ---       ┆ u32       ┆ u32       ┆ u32       │\n",
       "│            ┆ u32       ┆         ┆           ┆   ┆ u32       ┆           ┆           ┆           │\n",
       "╞════════════╪═══════════╪═════════╪═══════════╪═══╪═══════════╪═══════════╪═══════════╪═══════════╡\n",
       "│ 0          ┆ 0         ┆ 0       ┆ 0         ┆ … ┆ 0         ┆ 2653412   ┆ 4673494   ┆ 0         │\n",
       "└────────────┴───────────┴─────────┴───────────┴───┴───────────┴───────────┴───────────┴───────────┘"
      ]
     },
     "execution_count": 3,
     "metadata": {},
     "output_type": "execute_result"
    }
   ],
   "source": [
    "data.null_count()"
   ]
  }
 ],
 "metadata": {
  "kernelspec": {
   "display_name": ".venv",
   "language": "python",
   "name": "python3"
  },
  "language_info": {
   "codemirror_mode": {
    "name": "ipython",
    "version": 3
   },
   "file_extension": ".py",
   "mimetype": "text/x-python",
   "name": "python",
   "nbconvert_exporter": "python",
   "pygments_lexer": "ipython3",
   "version": "3.12.10"
  }
 },
 "nbformat": 4,
 "nbformat_minor": 5
}
