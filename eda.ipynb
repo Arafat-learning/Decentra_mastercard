{
 "cells": [
  {
   "cell_type": "markdown",
   "id": "8442383d",
   "metadata": {},
   "source": [
    "Notes:\n",
    "* The data is for two years: 2023 and 2024\n",
    "* The issuer_bank_name has only value of \"My Favorite Bank\". Possible to drop\n",
    "* Null values seem to be reasonable."
   ]
  },
  {
   "cell_type": "code",
   "execution_count": 2,
   "id": "d6cb6f84",
   "metadata": {},
   "outputs": [],
   "source": [
    "import polars as pl\n",
    "\n",
    "data = pl.read_parquet(\"data/DECENTRATHON_3.0.parquet\")"
   ]
  },
  {
   "cell_type": "code",
   "execution_count": 8,
   "id": "0b917259",
   "metadata": {},
   "outputs": [
    {
     "data": {
      "text/html": [
       "<div><style>\n",
       ".dataframe > thead > tr,\n",
       ".dataframe > tbody > tr {\n",
       "  text-align: right;\n",
       "  white-space: pre-wrap;\n",
       "}\n",
       "</style>\n",
       "<small>shape: (5, 17)</small><table border=\"1\" class=\"dataframe\"><thead><tr><th>transaction_id</th><th>transaction_timestamp</th><th>card_id</th><th>expiry_date</th><th>issuer_bank_name</th><th>merchant_id</th><th>merchant_mcc</th><th>mcc_category</th><th>merchant_city</th><th>transaction_type</th><th>transaction_amount_kzt</th><th>original_amount</th><th>transaction_currency</th><th>acquirer_country_iso</th><th>pos_entry_mode</th><th>wallet_type</th><th>__index_level_0__</th></tr><tr><td>str</td><td>datetime[ns]</td><td>i64</td><td>str</td><td>str</td><td>i64</td><td>i64</td><td>str</td><td>str</td><td>str</td><td>f64</td><td>f64</td><td>str</td><td>str</td><td>str</td><td>str</td><td>i64</td></tr></thead><tbody><tr><td>&quot;ffb21bbd-fef1-4983-9774-3b01c8…</td><td>2023-08-12 23:14:19.043176</td><td>10000</td><td>&quot;09/26&quot;</td><td>&quot;My Favorite Bank&quot;</td><td>50359</td><td>5499</td><td>&quot;Grocery &amp; Food Markets&quot;</td><td>&quot;Shymkent&quot;</td><td>&quot;POS&quot;</td><td>1237.66</td><td>null</td><td>&quot;KZT&quot;</td><td>&quot;KAZ&quot;</td><td>&quot;Contactless&quot;</td><td>&quot;Apple Pay&quot;</td><td>0</td></tr><tr><td>&quot;acd754f9-bd4c-416d-babc-926050…</td><td>2023-08-12 17:07:08.641030</td><td>10000</td><td>&quot;09/26&quot;</td><td>&quot;My Favorite Bank&quot;</td><td>50359</td><td>5499</td><td>&quot;Grocery &amp; Food Markets&quot;</td><td>&quot;Shymkent&quot;</td><td>&quot;POS&quot;</td><td>2328.03</td><td>null</td><td>&quot;KZT&quot;</td><td>&quot;KAZ&quot;</td><td>&quot;QR_Code&quot;</td><td>&quot;Bank&#x27;s QR&quot;</td><td>1</td></tr><tr><td>&quot;b023697b-eb35-40e6-af75-3586c6…</td><td>2023-08-12 08:45:32.946846</td><td>10000</td><td>&quot;09/26&quot;</td><td>&quot;My Favorite Bank&quot;</td><td>50214</td><td>4814</td><td>&quot;Utilities &amp; Bill Payments&quot;</td><td>&quot;Almaty&quot;</td><td>&quot;BILL_PAYMENT&quot;</td><td>53871.78</td><td>null</td><td>&quot;KZT&quot;</td><td>&quot;KAZ&quot;</td><td>null</td><td>null</td><td>2</td></tr><tr><td>&quot;d59d8537-1e48-41b5-91e1-dc7cf9…</td><td>2023-08-12 10:20:20.242510</td><td>10000</td><td>&quot;09/26&quot;</td><td>&quot;My Favorite Bank&quot;</td><td>50279</td><td>8011</td><td>&quot;Pharmacies &amp; Health&quot;</td><td>&quot;Shymkent&quot;</td><td>&quot;POS&quot;</td><td>22501.56</td><td>null</td><td>&quot;KZT&quot;</td><td>&quot;KAZ&quot;</td><td>&quot;Contactless&quot;</td><td>&quot;Apple Pay&quot;</td><td>3</td></tr><tr><td>&quot;85d2eef6-3b09-47a6-987f-f45ab4…</td><td>2023-08-12 00:42:00.556252</td><td>10000</td><td>&quot;09/26&quot;</td><td>&quot;My Favorite Bank&quot;</td><td>50332</td><td>5499</td><td>&quot;Grocery &amp; Food Markets&quot;</td><td>&quot;Almaty&quot;</td><td>&quot;POS&quot;</td><td>1224.04</td><td>null</td><td>&quot;KZT&quot;</td><td>&quot;KAZ&quot;</td><td>&quot;QR_Code&quot;</td><td>&quot;Bank&#x27;s QR&quot;</td><td>4</td></tr></tbody></table></div>"
      ],
      "text/plain": [
       "shape: (5, 17)\n",
       "┌────────────┬───────────┬─────────┬───────────┬───┬───────────┬───────────┬───────────┬───────────┐\n",
       "│ transactio ┆ transacti ┆ card_id ┆ expiry_da ┆ … ┆ acquirer_ ┆ pos_entry ┆ wallet_ty ┆ __index_l │\n",
       "│ n_id       ┆ on_timest ┆ ---     ┆ te        ┆   ┆ country_i ┆ _mode     ┆ pe        ┆ evel_0__  │\n",
       "│ ---        ┆ amp       ┆ i64     ┆ ---       ┆   ┆ so        ┆ ---       ┆ ---       ┆ ---       │\n",
       "│ str        ┆ ---       ┆         ┆ str       ┆   ┆ ---       ┆ str       ┆ str       ┆ i64       │\n",
       "│            ┆ datetime[ ┆         ┆           ┆   ┆ str       ┆           ┆           ┆           │\n",
       "│            ┆ ns]       ┆         ┆           ┆   ┆           ┆           ┆           ┆           │\n",
       "╞════════════╪═══════════╪═════════╪═══════════╪═══╪═══════════╪═══════════╪═══════════╪═══════════╡\n",
       "│ ffb21bbd-f ┆ 2023-08-1 ┆ 10000   ┆ 09/26     ┆ … ┆ KAZ       ┆ Contactle ┆ Apple Pay ┆ 0         │\n",
       "│ ef1-4983-9 ┆ 2 23:14:1 ┆         ┆           ┆   ┆           ┆ ss        ┆           ┆           │\n",
       "│ 774-3b01c8 ┆ 9.043176  ┆         ┆           ┆   ┆           ┆           ┆           ┆           │\n",
       "│ …          ┆           ┆         ┆           ┆   ┆           ┆           ┆           ┆           │\n",
       "│ acd754f9-b ┆ 2023-08-1 ┆ 10000   ┆ 09/26     ┆ … ┆ KAZ       ┆ QR_Code   ┆ Bank's QR ┆ 1         │\n",
       "│ d4c-416d-b ┆ 2 17:07:0 ┆         ┆           ┆   ┆           ┆           ┆           ┆           │\n",
       "│ abc-926050 ┆ 8.641030  ┆         ┆           ┆   ┆           ┆           ┆           ┆           │\n",
       "│ …          ┆           ┆         ┆           ┆   ┆           ┆           ┆           ┆           │\n",
       "│ b023697b-e ┆ 2023-08-1 ┆ 10000   ┆ 09/26     ┆ … ┆ KAZ       ┆ null      ┆ null      ┆ 2         │\n",
       "│ b35-40e6-a ┆ 2 08:45:3 ┆         ┆           ┆   ┆           ┆           ┆           ┆           │\n",
       "│ f75-3586c6 ┆ 2.946846  ┆         ┆           ┆   ┆           ┆           ┆           ┆           │\n",
       "│ …          ┆           ┆         ┆           ┆   ┆           ┆           ┆           ┆           │\n",
       "│ d59d8537-1 ┆ 2023-08-1 ┆ 10000   ┆ 09/26     ┆ … ┆ KAZ       ┆ Contactle ┆ Apple Pay ┆ 3         │\n",
       "│ e48-41b5-9 ┆ 2 10:20:2 ┆         ┆           ┆   ┆           ┆ ss        ┆           ┆           │\n",
       "│ 1e1-dc7cf9 ┆ 0.242510  ┆         ┆           ┆   ┆           ┆           ┆           ┆           │\n",
       "│ …          ┆           ┆         ┆           ┆   ┆           ┆           ┆           ┆           │\n",
       "│ 85d2eef6-3 ┆ 2023-08-1 ┆ 10000   ┆ 09/26     ┆ … ┆ KAZ       ┆ QR_Code   ┆ Bank's QR ┆ 4         │\n",
       "│ b09-47a6-9 ┆ 2 00:42:0 ┆         ┆           ┆   ┆           ┆           ┆           ┆           │\n",
       "│ 87f-f45ab4 ┆ 0.556252  ┆         ┆           ┆   ┆           ┆           ┆           ┆           │\n",
       "│ …          ┆           ┆         ┆           ┆   ┆           ┆           ┆           ┆           │\n",
       "└────────────┴───────────┴─────────┴───────────┴───┴───────────┴───────────┴───────────┴───────────┘"
      ]
     },
     "execution_count": 8,
     "metadata": {},
     "output_type": "execute_result"
    }
   ],
   "source": [
    "data.head()"
   ]
  },
  {
   "cell_type": "code",
   "execution_count": 12,
   "id": "6beb83b9",
   "metadata": {},
   "outputs": [
    {
     "data": {
      "text/html": [
       "<div><style>\n",
       ".dataframe > thead > tr,\n",
       ".dataframe > tbody > tr {\n",
       "  text-align: right;\n",
       "  white-space: pre-wrap;\n",
       "}\n",
       "</style>\n",
       "<small>shape: (13,)</small><table border=\"1\" class=\"dataframe\"><thead><tr><th>mcc_category</th></tr><tr><td>str</td></tr></thead><tbody><tr><td>&quot;Services (Other)&quot;</td></tr><tr><td>&quot;Unknown&quot;</td></tr><tr><td>&quot;Clothing &amp; Apparel&quot;</td></tr><tr><td>&quot;Electronics &amp; Software&quot;</td></tr><tr><td>&quot;Travel &amp; Transportation&quot;</td></tr><tr><td>&hellip;</td></tr><tr><td>&quot;Pharmacies &amp; Health&quot;</td></tr><tr><td>&quot;General Retail &amp; Department&quot;</td></tr><tr><td>&quot;Hobby, Books, Sporting Goods&quot;</td></tr><tr><td>&quot;Dining &amp; Restaurants&quot;</td></tr><tr><td>&quot;Fuel &amp; Service Stations&quot;</td></tr></tbody></table></div>"
      ],
      "text/plain": [
       "shape: (13,)\n",
       "Series: 'mcc_category' [str]\n",
       "[\n",
       "\t\"Services (Other)\"\n",
       "\t\"Unknown\"\n",
       "\t\"Clothing & Apparel\"\n",
       "\t\"Electronics & Software\"\n",
       "\t\"Travel & Transportation\"\n",
       "\t…\n",
       "\t\"Pharmacies & Health\"\n",
       "\t\"General Retail & Department\"\n",
       "\t\"Hobby, Books, Sporting Goods\"\n",
       "\t\"Dining & Restaurants\"\n",
       "\t\"Fuel & Service Stations\"\n",
       "]"
      ]
     },
     "execution_count": 12,
     "metadata": {},
     "output_type": "execute_result"
    }
   ],
   "source": [
    "data.get_column(\"mcc_category\").unique()"
   ]
  },
  {
   "cell_type": "code",
   "execution_count": 3,
   "id": "0f3b316c",
   "metadata": {},
   "outputs": [
    {
     "data": {
      "text/html": [
       "<div><style>\n",
       ".dataframe > thead > tr,\n",
       ".dataframe > tbody > tr {\n",
       "  text-align: right;\n",
       "  white-space: pre-wrap;\n",
       "}\n",
       "</style>\n",
       "<small>shape: (1, 17)</small><table border=\"1\" class=\"dataframe\"><thead><tr><th>transaction_id</th><th>transaction_timestamp</th><th>card_id</th><th>expiry_date</th><th>issuer_bank_name</th><th>merchant_id</th><th>merchant_mcc</th><th>mcc_category</th><th>merchant_city</th><th>transaction_type</th><th>transaction_amount_kzt</th><th>original_amount</th><th>transaction_currency</th><th>acquirer_country_iso</th><th>pos_entry_mode</th><th>wallet_type</th><th>__index_level_0__</th></tr><tr><td>u32</td><td>u32</td><td>u32</td><td>u32</td><td>u32</td><td>u32</td><td>u32</td><td>u32</td><td>u32</td><td>u32</td><td>u32</td><td>u32</td><td>u32</td><td>u32</td><td>u32</td><td>u32</td><td>u32</td></tr></thead><tbody><tr><td>0</td><td>0</td><td>0</td><td>0</td><td>0</td><td>2470036</td><td>2470036</td><td>0</td><td>2469297</td><td>0</td><td>0</td><td>11531433</td><td>0</td><td>0</td><td>2653412</td><td>4673494</td><td>0</td></tr></tbody></table></div>"
      ],
      "text/plain": [
       "shape: (1, 17)\n",
       "┌────────────┬───────────┬─────────┬───────────┬───┬───────────┬───────────┬───────────┬───────────┐\n",
       "│ transactio ┆ transacti ┆ card_id ┆ expiry_da ┆ … ┆ acquirer_ ┆ pos_entry ┆ wallet_ty ┆ __index_l │\n",
       "│ n_id       ┆ on_timest ┆ ---     ┆ te        ┆   ┆ country_i ┆ _mode     ┆ pe        ┆ evel_0__  │\n",
       "│ ---        ┆ amp       ┆ u32     ┆ ---       ┆   ┆ so        ┆ ---       ┆ ---       ┆ ---       │\n",
       "│ u32        ┆ ---       ┆         ┆ u32       ┆   ┆ ---       ┆ u32       ┆ u32       ┆ u32       │\n",
       "│            ┆ u32       ┆         ┆           ┆   ┆ u32       ┆           ┆           ┆           │\n",
       "╞════════════╪═══════════╪═════════╪═══════════╪═══╪═══════════╪═══════════╪═══════════╪═══════════╡\n",
       "│ 0          ┆ 0         ┆ 0       ┆ 0         ┆ … ┆ 0         ┆ 2653412   ┆ 4673494   ┆ 0         │\n",
       "└────────────┴───────────┴─────────┴───────────┴───┴───────────┴───────────┴───────────┴───────────┘"
      ]
     },
     "execution_count": 3,
     "metadata": {},
     "output_type": "execute_result"
    }
   ],
   "source": [
    "data.null_count()"
   ]
  },
  {
   "cell_type": "code",
   "execution_count": 4,
   "id": "f0ba0cb3",
   "metadata": {},
   "outputs": [
    {
     "data": {
      "text/html": [
       "<div><style>\n",
       ".dataframe > thead > tr,\n",
       ".dataframe > tbody > tr {\n",
       "  text-align: right;\n",
       "  white-space: pre-wrap;\n",
       "}\n",
       "</style>\n",
       "<small>shape: (9, 18)</small><table border=\"1\" class=\"dataframe\"><thead><tr><th>statistic</th><th>transaction_id</th><th>transaction_timestamp</th><th>card_id</th><th>expiry_date</th><th>issuer_bank_name</th><th>merchant_id</th><th>merchant_mcc</th><th>mcc_category</th><th>merchant_city</th><th>transaction_type</th><th>transaction_amount_kzt</th><th>original_amount</th><th>transaction_currency</th><th>acquirer_country_iso</th><th>pos_entry_mode</th><th>wallet_type</th><th>__index_level_0__</th></tr><tr><td>str</td><td>str</td><td>str</td><td>f64</td><td>str</td><td>str</td><td>f64</td><td>f64</td><td>str</td><td>str</td><td>str</td><td>f64</td><td>f64</td><td>str</td><td>str</td><td>str</td><td>str</td><td>f64</td></tr></thead><tbody><tr><td>&quot;count&quot;</td><td>&quot;11536850&quot;</td><td>&quot;11536850&quot;</td><td>1.153685e7</td><td>&quot;11536850&quot;</td><td>&quot;11536850&quot;</td><td>9.066814e6</td><td>9.066814e6</td><td>&quot;11536850&quot;</td><td>&quot;9067553&quot;</td><td>&quot;11536850&quot;</td><td>1.153685e7</td><td>5417.0</td><td>&quot;11536850&quot;</td><td>&quot;11536850&quot;</td><td>&quot;8883438&quot;</td><td>&quot;6863356&quot;</td><td>1.153685e7</td></tr><tr><td>&quot;null_count&quot;</td><td>&quot;0&quot;</td><td>&quot;0&quot;</td><td>0.0</td><td>&quot;0&quot;</td><td>&quot;0&quot;</td><td>2.470036e6</td><td>2.470036e6</td><td>&quot;0&quot;</td><td>&quot;2469297&quot;</td><td>&quot;0&quot;</td><td>0.0</td><td>1.1531433e7</td><td>&quot;0&quot;</td><td>&quot;0&quot;</td><td>&quot;2653412&quot;</td><td>&quot;4673494&quot;</td><td>0.0</td></tr><tr><td>&quot;mean&quot;</td><td>null</td><td>&quot;2024-04-23 10:50:42.587606&quot;</td><td>11003.031321</td><td>null</td><td>null</td><td>50249.453106</td><td>5644.688338</td><td>null</td><td>null</td><td>null</td><td>20166.686882</td><td>74316.000809</td><td>null</td><td>null</td><td>null</td><td>null</td><td>5768424.5</td></tr><tr><td>&quot;std&quot;</td><td>null</td><td>null</td><td>580.572998</td><td>null</td><td>null</td><td>143.985954</td><td>1030.229349</td><td>null</td><td>null</td><td>null</td><td>81305.720721</td><td>575082.106378</td><td>null</td><td>null</td><td>null</td><td>null</td><td>3.3304e6</td></tr><tr><td>&quot;min&quot;</td><td>&quot;0000013f-41fa-4e8e-b029-df002c…</td><td>&quot;2023-01-01 00:30:12.551745&quot;</td><td>10000.0</td><td>&quot;01/25&quot;</td><td>&quot;My Favorite Bank&quot;</td><td>50000.0</td><td>3000.0</td><td>&quot;Clothing &amp; Apparel&quot;</td><td>&quot;Aktobe&quot;</td><td>&quot;ATM_WITHDRAWAL&quot;</td><td>100.0</td><td>0.21</td><td>&quot;AED&quot;</td><td>&quot;ARE&quot;</td><td>&quot;Chip&quot;</td><td>&quot;Apple Pay&quot;</td><td>0.0</td></tr><tr><td>&quot;25%&quot;</td><td>null</td><td>&quot;2023-12-21 14:19:07.908075&quot;</td><td>10494.0</td><td>null</td><td>null</td><td>50126.0</td><td>5200.0</td><td>null</td><td>null</td><td>null</td><td>2140.45</td><td>28.8</td><td>null</td><td>null</td><td>null</td><td>null</td><td>2.884212e6</td></tr><tr><td>&quot;50%&quot;</td><td>null</td><td>&quot;2024-05-19 05:29:53.788712&quot;</td><td>10998.0</td><td>null</td><td>null</td><td>50248.0</td><td>5499.0</td><td>null</td><td>null</td><td>null</td><td>6070.66</td><td>164.78</td><td>null</td><td>null</td><td>null</td><td>null</td><td>5.768425e6</td></tr><tr><td>&quot;75%&quot;</td><td>null</td><td>&quot;2024-09-17 17:55:15.468680&quot;</td><td>11504.0</td><td>null</td><td>null</td><td>50375.0</td><td>5812.0</td><td>null</td><td>null</td><td>null</td><td>19259.91</td><td>2086.07</td><td>null</td><td>null</td><td>null</td><td>null</td><td>8.652637e6</td></tr><tr><td>&quot;max&quot;</td><td>&quot;fffffe8e-4a4f-4ba7-990c-19c995…</td><td>&quot;2024-12-31 23:59:35.437993&quot;</td><td>11999.0</td><td>&quot;12/29&quot;</td><td>&quot;My Favorite Bank&quot;</td><td>50499.0</td><td>9311.0</td><td>&quot;Utilities &amp; Bill Payments&quot;</td><td>&quot;Shymkent&quot;</td><td>&quot;SALARY&quot;</td><td>3.4073e7</td><td>2.7190e7</td><td>&quot;UZS&quot;</td><td>&quot;UZB&quot;</td><td>&quot;Swipe&quot;</td><td>&quot;Samsung Pay&quot;</td><td>1.1536849e7</td></tr></tbody></table></div>"
      ],
      "text/plain": [
       "shape: (9, 18)\n",
       "┌───────────┬───────────┬───────────┬───────────┬───┬───────────┬───────────┬───────────┬──────────┐\n",
       "│ statistic ┆ transacti ┆ transacti ┆ card_id   ┆ … ┆ acquirer_ ┆ pos_entry ┆ wallet_ty ┆ __index_ │\n",
       "│ ---       ┆ on_id     ┆ on_timest ┆ ---       ┆   ┆ country_i ┆ _mode     ┆ pe        ┆ level_0_ │\n",
       "│ str       ┆ ---       ┆ amp       ┆ f64       ┆   ┆ so        ┆ ---       ┆ ---       ┆ _        │\n",
       "│           ┆ str       ┆ ---       ┆           ┆   ┆ ---       ┆ str       ┆ str       ┆ ---      │\n",
       "│           ┆           ┆ str       ┆           ┆   ┆ str       ┆           ┆           ┆ f64      │\n",
       "╞═══════════╪═══════════╪═══════════╪═══════════╪═══╪═══════════╪═══════════╪═══════════╪══════════╡\n",
       "│ count     ┆ 11536850  ┆ 11536850  ┆ 1.153685e ┆ … ┆ 11536850  ┆ 8883438   ┆ 6863356   ┆ 1.153685 │\n",
       "│           ┆           ┆           ┆ 7         ┆   ┆           ┆           ┆           ┆ e7       │\n",
       "│ null_coun ┆ 0         ┆ 0         ┆ 0.0       ┆ … ┆ 0         ┆ 2653412   ┆ 4673494   ┆ 0.0      │\n",
       "│ t         ┆           ┆           ┆           ┆   ┆           ┆           ┆           ┆          │\n",
       "│ mean      ┆ null      ┆ 2024-04-2 ┆ 11003.031 ┆ … ┆ null      ┆ null      ┆ null      ┆ 5768424. │\n",
       "│           ┆           ┆ 3 10:50:4 ┆ 321       ┆   ┆           ┆           ┆           ┆ 5        │\n",
       "│           ┆           ┆ 2.587606  ┆           ┆   ┆           ┆           ┆           ┆          │\n",
       "│ std       ┆ null      ┆ null      ┆ 580.57299 ┆ … ┆ null      ┆ null      ┆ null      ┆ 3.3304e6 │\n",
       "│           ┆           ┆           ┆ 8         ┆   ┆           ┆           ┆           ┆          │\n",
       "│ min       ┆ 0000013f- ┆ 2023-01-0 ┆ 10000.0   ┆ … ┆ ARE       ┆ Chip      ┆ Apple Pay ┆ 0.0      │\n",
       "│           ┆ 41fa-4e8e ┆ 1 00:30:1 ┆           ┆   ┆           ┆           ┆           ┆          │\n",
       "│           ┆ -b029-df0 ┆ 2.551745  ┆           ┆   ┆           ┆           ┆           ┆          │\n",
       "│           ┆ 02c…      ┆           ┆           ┆   ┆           ┆           ┆           ┆          │\n",
       "│ 25%       ┆ null      ┆ 2023-12-2 ┆ 10494.0   ┆ … ┆ null      ┆ null      ┆ null      ┆ 2.884212 │\n",
       "│           ┆           ┆ 1 14:19:0 ┆           ┆   ┆           ┆           ┆           ┆ e6       │\n",
       "│           ┆           ┆ 7.908075  ┆           ┆   ┆           ┆           ┆           ┆          │\n",
       "│ 50%       ┆ null      ┆ 2024-05-1 ┆ 10998.0   ┆ … ┆ null      ┆ null      ┆ null      ┆ 5.768425 │\n",
       "│           ┆           ┆ 9 05:29:5 ┆           ┆   ┆           ┆           ┆           ┆ e6       │\n",
       "│           ┆           ┆ 3.788712  ┆           ┆   ┆           ┆           ┆           ┆          │\n",
       "│ 75%       ┆ null      ┆ 2024-09-1 ┆ 11504.0   ┆ … ┆ null      ┆ null      ┆ null      ┆ 8.652637 │\n",
       "│           ┆           ┆ 7 17:55:1 ┆           ┆   ┆           ┆           ┆           ┆ e6       │\n",
       "│           ┆           ┆ 5.468680  ┆           ┆   ┆           ┆           ┆           ┆          │\n",
       "│ max       ┆ fffffe8e- ┆ 2024-12-3 ┆ 11999.0   ┆ … ┆ UZB       ┆ Swipe     ┆ Samsung   ┆ 1.153684 │\n",
       "│           ┆ 4a4f-4ba7 ┆ 1 23:59:3 ┆           ┆   ┆           ┆           ┆ Pay       ┆ 9e7      │\n",
       "│           ┆ -990c-19c ┆ 5.437993  ┆           ┆   ┆           ┆           ┆           ┆          │\n",
       "│           ┆ 995…      ┆           ┆           ┆   ┆           ┆           ┆           ┆          │\n",
       "└───────────┴───────────┴───────────┴───────────┴───┴───────────┴───────────┴───────────┴──────────┘"
      ]
     },
     "execution_count": 4,
     "metadata": {},
     "output_type": "execute_result"
    }
   ],
   "source": [
    "data.describe()"
   ]
  }
 ],
 "metadata": {
  "kernelspec": {
   "display_name": ".venv",
   "language": "python",
   "name": "python3"
  },
  "language_info": {
   "codemirror_mode": {
    "name": "ipython",
    "version": 3
   },
   "file_extension": ".py",
   "mimetype": "text/x-python",
   "name": "python",
   "nbconvert_exporter": "python",
   "pygments_lexer": "ipython3",
   "version": "3.12.10"
  }
 },
 "nbformat": 4,
 "nbformat_minor": 5
}
