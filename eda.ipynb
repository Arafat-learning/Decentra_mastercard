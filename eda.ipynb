{
 "cells": [
  {
   "cell_type": "markdown",
   "id": "8442383d",
   "metadata": {},
   "source": [
    "Notes:\n",
    "* The data is for two years: 2023 and 2024\n",
    "* The issuer_bank_name has only value of \"My Favorite Bank\". Possible to drop\n",
    "* Null values seem to be reasonable.\n",
    "    merchant_id = null when payment is automatic like salary  \n",
    "    merchant_mcc = null whenever merchant_id = null  \n",
    "    merchant_city = null Almost always when merchant_id = null  \n",
    "    original amount = null if no conversion to other currency  \n",
    "    wallet_type = null if regular card is used  \n",
    "    pos_entry_mode = unclear what null signifies. When it is null the transaction is either  \n",
    "    \"P2P_OUT\", \"BILL_PAYMENT\", \"SALARY\", \"P2P_IN\"  \n",
    "* There is cases (~739) where we have merchant_city but no merchant_id"
   ]
  },
  {
   "cell_type": "code",
   "execution_count": 2,
   "id": "d6cb6f84",
   "metadata": {},
   "outputs": [],
   "source": [
    "import polars as pl\n",
    "\n",
    "data = pl.read_parquet(\"data/DECENTRATHON_3.0.parquet\")"
   ]
  },
  {
   "cell_type": "code",
   "execution_count": 3,
   "id": "0b917259",
   "metadata": {},
   "outputs": [
    {
     "data": {
      "text/html": [
       "<div><style>\n",
       ".dataframe > thead > tr,\n",
       ".dataframe > tbody > tr {\n",
       "  text-align: right;\n",
       "  white-space: pre-wrap;\n",
       "}\n",
       "</style>\n",
       "<small>shape: (5, 17)</small><table border=\"1\" class=\"dataframe\"><thead><tr><th>transaction_id</th><th>transaction_timestamp</th><th>card_id</th><th>expiry_date</th><th>issuer_bank_name</th><th>merchant_id</th><th>merchant_mcc</th><th>mcc_category</th><th>merchant_city</th><th>transaction_type</th><th>transaction_amount_kzt</th><th>original_amount</th><th>transaction_currency</th><th>acquirer_country_iso</th><th>pos_entry_mode</th><th>wallet_type</th><th>__index_level_0__</th></tr><tr><td>str</td><td>datetime[ns]</td><td>i64</td><td>str</td><td>str</td><td>i64</td><td>i64</td><td>str</td><td>str</td><td>str</td><td>f64</td><td>f64</td><td>str</td><td>str</td><td>str</td><td>str</td><td>i64</td></tr></thead><tbody><tr><td>&quot;ffb21bbd-fef1-4983-9774-3b01c8…</td><td>2023-08-12 23:14:19.043176</td><td>10000</td><td>&quot;09/26&quot;</td><td>&quot;My Favorite Bank&quot;</td><td>50359</td><td>5499</td><td>&quot;Grocery &amp; Food Markets&quot;</td><td>&quot;Shymkent&quot;</td><td>&quot;POS&quot;</td><td>1237.66</td><td>null</td><td>&quot;KZT&quot;</td><td>&quot;KAZ&quot;</td><td>&quot;Contactless&quot;</td><td>&quot;Apple Pay&quot;</td><td>0</td></tr><tr><td>&quot;acd754f9-bd4c-416d-babc-926050…</td><td>2023-08-12 17:07:08.641030</td><td>10000</td><td>&quot;09/26&quot;</td><td>&quot;My Favorite Bank&quot;</td><td>50359</td><td>5499</td><td>&quot;Grocery &amp; Food Markets&quot;</td><td>&quot;Shymkent&quot;</td><td>&quot;POS&quot;</td><td>2328.03</td><td>null</td><td>&quot;KZT&quot;</td><td>&quot;KAZ&quot;</td><td>&quot;QR_Code&quot;</td><td>&quot;Bank&#x27;s QR&quot;</td><td>1</td></tr><tr><td>&quot;b023697b-eb35-40e6-af75-3586c6…</td><td>2023-08-12 08:45:32.946846</td><td>10000</td><td>&quot;09/26&quot;</td><td>&quot;My Favorite Bank&quot;</td><td>50214</td><td>4814</td><td>&quot;Utilities &amp; Bill Payments&quot;</td><td>&quot;Almaty&quot;</td><td>&quot;BILL_PAYMENT&quot;</td><td>53871.78</td><td>null</td><td>&quot;KZT&quot;</td><td>&quot;KAZ&quot;</td><td>null</td><td>null</td><td>2</td></tr><tr><td>&quot;d59d8537-1e48-41b5-91e1-dc7cf9…</td><td>2023-08-12 10:20:20.242510</td><td>10000</td><td>&quot;09/26&quot;</td><td>&quot;My Favorite Bank&quot;</td><td>50279</td><td>8011</td><td>&quot;Pharmacies &amp; Health&quot;</td><td>&quot;Shymkent&quot;</td><td>&quot;POS&quot;</td><td>22501.56</td><td>null</td><td>&quot;KZT&quot;</td><td>&quot;KAZ&quot;</td><td>&quot;Contactless&quot;</td><td>&quot;Apple Pay&quot;</td><td>3</td></tr><tr><td>&quot;85d2eef6-3b09-47a6-987f-f45ab4…</td><td>2023-08-12 00:42:00.556252</td><td>10000</td><td>&quot;09/26&quot;</td><td>&quot;My Favorite Bank&quot;</td><td>50332</td><td>5499</td><td>&quot;Grocery &amp; Food Markets&quot;</td><td>&quot;Almaty&quot;</td><td>&quot;POS&quot;</td><td>1224.04</td><td>null</td><td>&quot;KZT&quot;</td><td>&quot;KAZ&quot;</td><td>&quot;QR_Code&quot;</td><td>&quot;Bank&#x27;s QR&quot;</td><td>4</td></tr></tbody></table></div>"
      ],
      "text/plain": [
       "shape: (5, 17)\n",
       "┌────────────┬───────────┬─────────┬───────────┬───┬───────────┬───────────┬───────────┬───────────┐\n",
       "│ transactio ┆ transacti ┆ card_id ┆ expiry_da ┆ … ┆ acquirer_ ┆ pos_entry ┆ wallet_ty ┆ __index_l │\n",
       "│ n_id       ┆ on_timest ┆ ---     ┆ te        ┆   ┆ country_i ┆ _mode     ┆ pe        ┆ evel_0__  │\n",
       "│ ---        ┆ amp       ┆ i64     ┆ ---       ┆   ┆ so        ┆ ---       ┆ ---       ┆ ---       │\n",
       "│ str        ┆ ---       ┆         ┆ str       ┆   ┆ ---       ┆ str       ┆ str       ┆ i64       │\n",
       "│            ┆ datetime[ ┆         ┆           ┆   ┆ str       ┆           ┆           ┆           │\n",
       "│            ┆ ns]       ┆         ┆           ┆   ┆           ┆           ┆           ┆           │\n",
       "╞════════════╪═══════════╪═════════╪═══════════╪═══╪═══════════╪═══════════╪═══════════╪═══════════╡\n",
       "│ ffb21bbd-f ┆ 2023-08-1 ┆ 10000   ┆ 09/26     ┆ … ┆ KAZ       ┆ Contactle ┆ Apple Pay ┆ 0         │\n",
       "│ ef1-4983-9 ┆ 2 23:14:1 ┆         ┆           ┆   ┆           ┆ ss        ┆           ┆           │\n",
       "│ 774-3b01c8 ┆ 9.043176  ┆         ┆           ┆   ┆           ┆           ┆           ┆           │\n",
       "│ …          ┆           ┆         ┆           ┆   ┆           ┆           ┆           ┆           │\n",
       "│ acd754f9-b ┆ 2023-08-1 ┆ 10000   ┆ 09/26     ┆ … ┆ KAZ       ┆ QR_Code   ┆ Bank's QR ┆ 1         │\n",
       "│ d4c-416d-b ┆ 2 17:07:0 ┆         ┆           ┆   ┆           ┆           ┆           ┆           │\n",
       "│ abc-926050 ┆ 8.641030  ┆         ┆           ┆   ┆           ┆           ┆           ┆           │\n",
       "│ …          ┆           ┆         ┆           ┆   ┆           ┆           ┆           ┆           │\n",
       "│ b023697b-e ┆ 2023-08-1 ┆ 10000   ┆ 09/26     ┆ … ┆ KAZ       ┆ null      ┆ null      ┆ 2         │\n",
       "│ b35-40e6-a ┆ 2 08:45:3 ┆         ┆           ┆   ┆           ┆           ┆           ┆           │\n",
       "│ f75-3586c6 ┆ 2.946846  ┆         ┆           ┆   ┆           ┆           ┆           ┆           │\n",
       "│ …          ┆           ┆         ┆           ┆   ┆           ┆           ┆           ┆           │\n",
       "│ d59d8537-1 ┆ 2023-08-1 ┆ 10000   ┆ 09/26     ┆ … ┆ KAZ       ┆ Contactle ┆ Apple Pay ┆ 3         │\n",
       "│ e48-41b5-9 ┆ 2 10:20:2 ┆         ┆           ┆   ┆           ┆ ss        ┆           ┆           │\n",
       "│ 1e1-dc7cf9 ┆ 0.242510  ┆         ┆           ┆   ┆           ┆           ┆           ┆           │\n",
       "│ …          ┆           ┆         ┆           ┆   ┆           ┆           ┆           ┆           │\n",
       "│ 85d2eef6-3 ┆ 2023-08-1 ┆ 10000   ┆ 09/26     ┆ … ┆ KAZ       ┆ QR_Code   ┆ Bank's QR ┆ 4         │\n",
       "│ b09-47a6-9 ┆ 2 00:42:0 ┆         ┆           ┆   ┆           ┆           ┆           ┆           │\n",
       "│ 87f-f45ab4 ┆ 0.556252  ┆         ┆           ┆   ┆           ┆           ┆           ┆           │\n",
       "│ …          ┆           ┆         ┆           ┆   ┆           ┆           ┆           ┆           │\n",
       "└────────────┴───────────┴─────────┴───────────┴───┴───────────┴───────────┴───────────┴───────────┘"
      ]
     },
     "execution_count": 3,
     "metadata": {},
     "output_type": "execute_result"
    }
   ],
   "source": [
    "data.head()"
   ]
  },
  {
   "cell_type": "code",
   "execution_count": 4,
   "id": "f0ba0cb3",
   "metadata": {},
   "outputs": [
    {
     "data": {
      "text/html": [
       "<div><style>\n",
       ".dataframe > thead > tr,\n",
       ".dataframe > tbody > tr {\n",
       "  text-align: right;\n",
       "  white-space: pre-wrap;\n",
       "}\n",
       "</style>\n",
       "<small>shape: (9, 18)</small><table border=\"1\" class=\"dataframe\"><thead><tr><th>statistic</th><th>transaction_id</th><th>transaction_timestamp</th><th>card_id</th><th>expiry_date</th><th>issuer_bank_name</th><th>merchant_id</th><th>merchant_mcc</th><th>mcc_category</th><th>merchant_city</th><th>transaction_type</th><th>transaction_amount_kzt</th><th>original_amount</th><th>transaction_currency</th><th>acquirer_country_iso</th><th>pos_entry_mode</th><th>wallet_type</th><th>__index_level_0__</th></tr><tr><td>str</td><td>str</td><td>str</td><td>f64</td><td>str</td><td>str</td><td>f64</td><td>f64</td><td>str</td><td>str</td><td>str</td><td>f64</td><td>f64</td><td>str</td><td>str</td><td>str</td><td>str</td><td>f64</td></tr></thead><tbody><tr><td>&quot;count&quot;</td><td>&quot;11536850&quot;</td><td>&quot;11536850&quot;</td><td>1.153685e7</td><td>&quot;11536850&quot;</td><td>&quot;11536850&quot;</td><td>9.066814e6</td><td>9.066814e6</td><td>&quot;11536850&quot;</td><td>&quot;9067553&quot;</td><td>&quot;11536850&quot;</td><td>1.153685e7</td><td>5417.0</td><td>&quot;11536850&quot;</td><td>&quot;11536850&quot;</td><td>&quot;8883438&quot;</td><td>&quot;6863356&quot;</td><td>1.153685e7</td></tr><tr><td>&quot;null_count&quot;</td><td>&quot;0&quot;</td><td>&quot;0&quot;</td><td>0.0</td><td>&quot;0&quot;</td><td>&quot;0&quot;</td><td>2.470036e6</td><td>2.470036e6</td><td>&quot;0&quot;</td><td>&quot;2469297&quot;</td><td>&quot;0&quot;</td><td>0.0</td><td>1.1531433e7</td><td>&quot;0&quot;</td><td>&quot;0&quot;</td><td>&quot;2653412&quot;</td><td>&quot;4673494&quot;</td><td>0.0</td></tr><tr><td>&quot;mean&quot;</td><td>null</td><td>&quot;2024-04-23 10:50:42.587606&quot;</td><td>11003.031321</td><td>null</td><td>null</td><td>50249.453106</td><td>5644.688338</td><td>null</td><td>null</td><td>null</td><td>20166.686882</td><td>74316.000809</td><td>null</td><td>null</td><td>null</td><td>null</td><td>5768424.5</td></tr><tr><td>&quot;std&quot;</td><td>null</td><td>null</td><td>580.572998</td><td>null</td><td>null</td><td>143.985954</td><td>1030.229349</td><td>null</td><td>null</td><td>null</td><td>81305.720721</td><td>575082.106378</td><td>null</td><td>null</td><td>null</td><td>null</td><td>3.3304e6</td></tr><tr><td>&quot;min&quot;</td><td>&quot;0000013f-41fa-4e8e-b029-df002c…</td><td>&quot;2023-01-01 00:30:12.551745&quot;</td><td>10000.0</td><td>&quot;01/25&quot;</td><td>&quot;My Favorite Bank&quot;</td><td>50000.0</td><td>3000.0</td><td>&quot;Clothing &amp; Apparel&quot;</td><td>&quot;Aktobe&quot;</td><td>&quot;ATM_WITHDRAWAL&quot;</td><td>100.0</td><td>0.21</td><td>&quot;AED&quot;</td><td>&quot;ARE&quot;</td><td>&quot;Chip&quot;</td><td>&quot;Apple Pay&quot;</td><td>0.0</td></tr><tr><td>&quot;25%&quot;</td><td>null</td><td>&quot;2023-12-21 14:19:07.908075&quot;</td><td>10494.0</td><td>null</td><td>null</td><td>50126.0</td><td>5200.0</td><td>null</td><td>null</td><td>null</td><td>2140.45</td><td>28.8</td><td>null</td><td>null</td><td>null</td><td>null</td><td>2.884212e6</td></tr><tr><td>&quot;50%&quot;</td><td>null</td><td>&quot;2024-05-19 05:29:53.788712&quot;</td><td>10998.0</td><td>null</td><td>null</td><td>50248.0</td><td>5499.0</td><td>null</td><td>null</td><td>null</td><td>6070.66</td><td>164.78</td><td>null</td><td>null</td><td>null</td><td>null</td><td>5.768425e6</td></tr><tr><td>&quot;75%&quot;</td><td>null</td><td>&quot;2024-09-17 17:55:15.468680&quot;</td><td>11504.0</td><td>null</td><td>null</td><td>50375.0</td><td>5812.0</td><td>null</td><td>null</td><td>null</td><td>19259.91</td><td>2086.07</td><td>null</td><td>null</td><td>null</td><td>null</td><td>8.652637e6</td></tr><tr><td>&quot;max&quot;</td><td>&quot;fffffe8e-4a4f-4ba7-990c-19c995…</td><td>&quot;2024-12-31 23:59:35.437993&quot;</td><td>11999.0</td><td>&quot;12/29&quot;</td><td>&quot;My Favorite Bank&quot;</td><td>50499.0</td><td>9311.0</td><td>&quot;Utilities &amp; Bill Payments&quot;</td><td>&quot;Shymkent&quot;</td><td>&quot;SALARY&quot;</td><td>3.4073e7</td><td>2.7190e7</td><td>&quot;UZS&quot;</td><td>&quot;UZB&quot;</td><td>&quot;Swipe&quot;</td><td>&quot;Samsung Pay&quot;</td><td>1.1536849e7</td></tr></tbody></table></div>"
      ],
      "text/plain": [
       "shape: (9, 18)\n",
       "┌───────────┬───────────┬───────────┬───────────┬───┬───────────┬───────────┬───────────┬──────────┐\n",
       "│ statistic ┆ transacti ┆ transacti ┆ card_id   ┆ … ┆ acquirer_ ┆ pos_entry ┆ wallet_ty ┆ __index_ │\n",
       "│ ---       ┆ on_id     ┆ on_timest ┆ ---       ┆   ┆ country_i ┆ _mode     ┆ pe        ┆ level_0_ │\n",
       "│ str       ┆ ---       ┆ amp       ┆ f64       ┆   ┆ so        ┆ ---       ┆ ---       ┆ _        │\n",
       "│           ┆ str       ┆ ---       ┆           ┆   ┆ ---       ┆ str       ┆ str       ┆ ---      │\n",
       "│           ┆           ┆ str       ┆           ┆   ┆ str       ┆           ┆           ┆ f64      │\n",
       "╞═══════════╪═══════════╪═══════════╪═══════════╪═══╪═══════════╪═══════════╪═══════════╪══════════╡\n",
       "│ count     ┆ 11536850  ┆ 11536850  ┆ 1.153685e ┆ … ┆ 11536850  ┆ 8883438   ┆ 6863356   ┆ 1.153685 │\n",
       "│           ┆           ┆           ┆ 7         ┆   ┆           ┆           ┆           ┆ e7       │\n",
       "│ null_coun ┆ 0         ┆ 0         ┆ 0.0       ┆ … ┆ 0         ┆ 2653412   ┆ 4673494   ┆ 0.0      │\n",
       "│ t         ┆           ┆           ┆           ┆   ┆           ┆           ┆           ┆          │\n",
       "│ mean      ┆ null      ┆ 2024-04-2 ┆ 11003.031 ┆ … ┆ null      ┆ null      ┆ null      ┆ 5768424. │\n",
       "│           ┆           ┆ 3 10:50:4 ┆ 321       ┆   ┆           ┆           ┆           ┆ 5        │\n",
       "│           ┆           ┆ 2.587606  ┆           ┆   ┆           ┆           ┆           ┆          │\n",
       "│ std       ┆ null      ┆ null      ┆ 580.57299 ┆ … ┆ null      ┆ null      ┆ null      ┆ 3.3304e6 │\n",
       "│           ┆           ┆           ┆ 8         ┆   ┆           ┆           ┆           ┆          │\n",
       "│ min       ┆ 0000013f- ┆ 2023-01-0 ┆ 10000.0   ┆ … ┆ ARE       ┆ Chip      ┆ Apple Pay ┆ 0.0      │\n",
       "│           ┆ 41fa-4e8e ┆ 1 00:30:1 ┆           ┆   ┆           ┆           ┆           ┆          │\n",
       "│           ┆ -b029-df0 ┆ 2.551745  ┆           ┆   ┆           ┆           ┆           ┆          │\n",
       "│           ┆ 02c…      ┆           ┆           ┆   ┆           ┆           ┆           ┆          │\n",
       "│ 25%       ┆ null      ┆ 2023-12-2 ┆ 10494.0   ┆ … ┆ null      ┆ null      ┆ null      ┆ 2.884212 │\n",
       "│           ┆           ┆ 1 14:19:0 ┆           ┆   ┆           ┆           ┆           ┆ e6       │\n",
       "│           ┆           ┆ 7.908075  ┆           ┆   ┆           ┆           ┆           ┆          │\n",
       "│ 50%       ┆ null      ┆ 2024-05-1 ┆ 10998.0   ┆ … ┆ null      ┆ null      ┆ null      ┆ 5.768425 │\n",
       "│           ┆           ┆ 9 05:29:5 ┆           ┆   ┆           ┆           ┆           ┆ e6       │\n",
       "│           ┆           ┆ 3.788712  ┆           ┆   ┆           ┆           ┆           ┆          │\n",
       "│ 75%       ┆ null      ┆ 2024-09-1 ┆ 11504.0   ┆ … ┆ null      ┆ null      ┆ null      ┆ 8.652637 │\n",
       "│           ┆           ┆ 7 17:55:1 ┆           ┆   ┆           ┆           ┆           ┆ e6       │\n",
       "│           ┆           ┆ 5.468680  ┆           ┆   ┆           ┆           ┆           ┆          │\n",
       "│ max       ┆ fffffe8e- ┆ 2024-12-3 ┆ 11999.0   ┆ … ┆ UZB       ┆ Swipe     ┆ Samsung   ┆ 1.153684 │\n",
       "│           ┆ 4a4f-4ba7 ┆ 1 23:59:3 ┆           ┆   ┆           ┆           ┆ Pay       ┆ 9e7      │\n",
       "│           ┆ -990c-19c ┆ 5.437993  ┆           ┆   ┆           ┆           ┆           ┆          │\n",
       "│           ┆ 995…      ┆           ┆           ┆   ┆           ┆           ┆           ┆          │\n",
       "└───────────┴───────────┴───────────┴───────────┴───┴───────────┴───────────┴───────────┴──────────┘"
      ]
     },
     "execution_count": 4,
     "metadata": {},
     "output_type": "execute_result"
    }
   ],
   "source": [
    "data.describe()"
   ]
  },
  {
   "cell_type": "code",
   "execution_count": 7,
   "id": "7195e2d2",
   "metadata": {},
   "outputs": [
    {
     "data": {
      "text/html": [
       "\n",
       "<style>\n",
       "  #altair-viz-1a917ef66aed43fabebe5e4ebc063423.vega-embed {\n",
       "    width: 100%;\n",
       "    display: flex;\n",
       "  }\n",
       "\n",
       "  #altair-viz-1a917ef66aed43fabebe5e4ebc063423.vega-embed details,\n",
       "  #altair-viz-1a917ef66aed43fabebe5e4ebc063423.vega-embed details summary {\n",
       "    position: relative;\n",
       "  }\n",
       "</style>\n",
       "<div id=\"altair-viz-1a917ef66aed43fabebe5e4ebc063423\"></div>\n",
       "<script type=\"text/javascript\">\n",
       "  var VEGA_DEBUG = (typeof VEGA_DEBUG == \"undefined\") ? {} : VEGA_DEBUG;\n",
       "  (function(spec, embedOpt){\n",
       "    let outputDiv = document.currentScript.previousElementSibling;\n",
       "    if (outputDiv.id !== \"altair-viz-1a917ef66aed43fabebe5e4ebc063423\") {\n",
       "      outputDiv = document.getElementById(\"altair-viz-1a917ef66aed43fabebe5e4ebc063423\");\n",
       "    }\n",
       "\n",
       "    const paths = {\n",
       "      \"vega\": \"https://cdn.jsdelivr.net/npm/vega@5?noext\",\n",
       "      \"vega-lib\": \"https://cdn.jsdelivr.net/npm/vega-lib?noext\",\n",
       "      \"vega-lite\": \"https://cdn.jsdelivr.net/npm/vega-lite@5.20.1?noext\",\n",
       "      \"vega-embed\": \"https://cdn.jsdelivr.net/npm/vega-embed@6?noext\",\n",
       "    };\n",
       "\n",
       "    function maybeLoadScript(lib, version) {\n",
       "      var key = `${lib.replace(\"-\", \"\")}_version`;\n",
       "      return (VEGA_DEBUG[key] == version) ?\n",
       "        Promise.resolve(paths[lib]) :\n",
       "        new Promise(function(resolve, reject) {\n",
       "          var s = document.createElement('script');\n",
       "          document.getElementsByTagName(\"head\")[0].appendChild(s);\n",
       "          s.async = true;\n",
       "          s.onload = () => {\n",
       "            VEGA_DEBUG[key] = version;\n",
       "            return resolve(paths[lib]);\n",
       "          };\n",
       "          s.onerror = () => reject(`Error loading script: ${paths[lib]}`);\n",
       "          s.src = paths[lib];\n",
       "        });\n",
       "    }\n",
       "\n",
       "    function showError(err) {\n",
       "      outputDiv.innerHTML = `<div class=\"error\" style=\"color:red;\">${err}</div>`;\n",
       "      throw err;\n",
       "    }\n",
       "\n",
       "    function displayChart(vegaEmbed) {\n",
       "      vegaEmbed(outputDiv, spec, embedOpt)\n",
       "        .catch(err => showError(`Javascript Error: ${err.message}<br>This usually means there's a typo in your chart specification. See the javascript console for the full traceback.`));\n",
       "    }\n",
       "\n",
       "    if(typeof define === \"function\" && define.amd) {\n",
       "      requirejs.config({paths});\n",
       "      let deps = [\"vega-embed\"];\n",
       "      require(deps, displayChart, err => showError(`Error loading script: ${err.message}`));\n",
       "    } else {\n",
       "      maybeLoadScript(\"vega\", \"5\")\n",
       "        .then(() => maybeLoadScript(\"vega-lite\", \"5.20.1\"))\n",
       "        .then(() => maybeLoadScript(\"vega-embed\", \"6\"))\n",
       "        .catch(showError)\n",
       "        .then(() => displayChart(vegaEmbed));\n",
       "    }\n",
       "  })({\"config\": {\"view\": {\"continuousWidth\": 300, \"continuousHeight\": 300}}, \"data\": {\"name\": \"data-8d85f2a00ab00db57879d4007b178b54\"}, \"mark\": {\"type\": \"bar\", \"tooltip\": true}, \"encoding\": {\"x\": {\"field\": \"mcc_category\", \"type\": \"nominal\"}, \"y\": {\"field\": \"share_in_ttl_trnsc\", \"type\": \"quantitative\"}}, \"params\": [{\"name\": \"param_2\", \"select\": {\"type\": \"interval\", \"encodings\": [\"x\", \"y\"]}, \"bind\": \"scales\"}], \"$schema\": \"https://vega.github.io/schema/vega-lite/v5.20.1.json\", \"datasets\": {\"data-8d85f2a00ab00db57879d4007b178b54\": [{\"mcc_category\": \"Travel & Transportation\", \"transaction_amount_kzt\": 18428385056.330017, \"share_in_ttl_trnsc\": 0.07920734877175684}, {\"mcc_category\": \"Pharmacies & Health\", \"transaction_amount_kzt\": 2449639440.439996, \"share_in_ttl_trnsc\": 0.01052883608253748}, {\"mcc_category\": \"Fuel & Service Stations\", \"transaction_amount_kzt\": 3008753654.0700016, \"share_in_ttl_trnsc\": 0.012931974197291954}, {\"mcc_category\": \"Grocery & Food Markets\", \"transaction_amount_kzt\": 10419744556.520058, \"share_in_ttl_trnsc\": 0.04478527763980096}, {\"mcc_category\": \"Clothing & Apparel\", \"transaction_amount_kzt\": 7446616636.77003, \"share_in_ttl_trnsc\": 0.032006427004606645}, {\"mcc_category\": \"Unknown\", \"transaction_amount_kzt\": 65893852104.17969, \"share_in_ttl_trnsc\": 0.2832194633212062}, {\"mcc_category\": \"Hobby, Books, Sporting Goods\", \"transaction_amount_kzt\": 1845726762.5300014, \"share_in_ttl_trnsc\": 0.0079331489422543}, {\"mcc_category\": \"Services (Other)\", \"transaction_amount_kzt\": 41681122855.87992, \"share_in_ttl_trnsc\": 0.17915032842826895}, {\"mcc_category\": \"Electronics & Software\", \"transaction_amount_kzt\": 22123559524.649967, \"share_in_ttl_trnsc\": 0.09508963970447067}, {\"mcc_category\": \"Home Furnishings & Supplies\", \"transaction_amount_kzt\": 8538407699.679985, \"share_in_ttl_trnsc\": 0.03669907235803611}, {\"mcc_category\": \"General Retail & Department\", \"transaction_amount_kzt\": 10997475684.590014, \"share_in_ttl_trnsc\": 0.04726843342461126}, {\"mcc_category\": \"Dining & Restaurants\", \"transaction_amount_kzt\": 3871236431.009965, \"share_in_ttl_trnsc\": 0.016639025787211457}, {\"mcc_category\": \"Utilities & Bill Payments\", \"transaction_amount_kzt\": 35955521143.70015, \"share_in_ttl_trnsc\": 0.15454102433794586}]}}, {\"mode\": \"vega-lite\"});\n",
       "</script>"
      ],
      "text/plain": [
       "alt.Chart(...)"
      ]
     },
     "execution_count": 7,
     "metadata": {},
     "output_type": "execute_result"
    }
   ],
   "source": [
    "total_transactions = data.get_column(\"transaction_amount_kzt\").sum()\n",
    "\n",
    "transactions_by_category = (data.group_by(\"mcc_category\")\n",
    "                                .agg(pl.col(\"transaction_amount_kzt\").sum())\n",
    "                                .with_columns(\n",
    "                                    (pl.col(\"transaction_amount_kzt\")/total_transactions).alias(\"share_in_ttl_trnsc\")))\n",
    "\n",
    "\n",
    "transactions_by_category.plot.bar(x=\"mcc_category\", y = \"share_in_ttl_trnsc\")"
   ]
  },
  {
   "cell_type": "code",
   "execution_count": 8,
   "id": "fd362d0a",
   "metadata": {},
   "outputs": [
    {
     "data": {
      "text/html": [
       "\n",
       "<style>\n",
       "  #altair-viz-10a5cda4605b4084ab06dbf07527d36b.vega-embed {\n",
       "    width: 100%;\n",
       "    display: flex;\n",
       "  }\n",
       "\n",
       "  #altair-viz-10a5cda4605b4084ab06dbf07527d36b.vega-embed details,\n",
       "  #altair-viz-10a5cda4605b4084ab06dbf07527d36b.vega-embed details summary {\n",
       "    position: relative;\n",
       "  }\n",
       "</style>\n",
       "<div id=\"altair-viz-10a5cda4605b4084ab06dbf07527d36b\"></div>\n",
       "<script type=\"text/javascript\">\n",
       "  var VEGA_DEBUG = (typeof VEGA_DEBUG == \"undefined\") ? {} : VEGA_DEBUG;\n",
       "  (function(spec, embedOpt){\n",
       "    let outputDiv = document.currentScript.previousElementSibling;\n",
       "    if (outputDiv.id !== \"altair-viz-10a5cda4605b4084ab06dbf07527d36b\") {\n",
       "      outputDiv = document.getElementById(\"altair-viz-10a5cda4605b4084ab06dbf07527d36b\");\n",
       "    }\n",
       "\n",
       "    const paths = {\n",
       "      \"vega\": \"https://cdn.jsdelivr.net/npm/vega@5?noext\",\n",
       "      \"vega-lib\": \"https://cdn.jsdelivr.net/npm/vega-lib?noext\",\n",
       "      \"vega-lite\": \"https://cdn.jsdelivr.net/npm/vega-lite@5.20.1?noext\",\n",
       "      \"vega-embed\": \"https://cdn.jsdelivr.net/npm/vega-embed@6?noext\",\n",
       "    };\n",
       "\n",
       "    function maybeLoadScript(lib, version) {\n",
       "      var key = `${lib.replace(\"-\", \"\")}_version`;\n",
       "      return (VEGA_DEBUG[key] == version) ?\n",
       "        Promise.resolve(paths[lib]) :\n",
       "        new Promise(function(resolve, reject) {\n",
       "          var s = document.createElement('script');\n",
       "          document.getElementsByTagName(\"head\")[0].appendChild(s);\n",
       "          s.async = true;\n",
       "          s.onload = () => {\n",
       "            VEGA_DEBUG[key] = version;\n",
       "            return resolve(paths[lib]);\n",
       "          };\n",
       "          s.onerror = () => reject(`Error loading script: ${paths[lib]}`);\n",
       "          s.src = paths[lib];\n",
       "        });\n",
       "    }\n",
       "\n",
       "    function showError(err) {\n",
       "      outputDiv.innerHTML = `<div class=\"error\" style=\"color:red;\">${err}</div>`;\n",
       "      throw err;\n",
       "    }\n",
       "\n",
       "    function displayChart(vegaEmbed) {\n",
       "      vegaEmbed(outputDiv, spec, embedOpt)\n",
       "        .catch(err => showError(`Javascript Error: ${err.message}<br>This usually means there's a typo in your chart specification. See the javascript console for the full traceback.`));\n",
       "    }\n",
       "\n",
       "    if(typeof define === \"function\" && define.amd) {\n",
       "      requirejs.config({paths});\n",
       "      let deps = [\"vega-embed\"];\n",
       "      require(deps, displayChart, err => showError(`Error loading script: ${err.message}`));\n",
       "    } else {\n",
       "      maybeLoadScript(\"vega\", \"5\")\n",
       "        .then(() => maybeLoadScript(\"vega-lite\", \"5.20.1\"))\n",
       "        .then(() => maybeLoadScript(\"vega-embed\", \"6\"))\n",
       "        .catch(showError)\n",
       "        .then(() => displayChart(vegaEmbed));\n",
       "    }\n",
       "  })({\"config\": {\"view\": {\"continuousWidth\": 300, \"continuousHeight\": 300}}, \"data\": {\"name\": \"data-a3c0d53c0dd11684e27a764609152300\"}, \"mark\": {\"type\": \"bar\", \"tooltip\": true}, \"encoding\": {\"x\": {\"field\": \"transaction_type\", \"type\": \"nominal\"}, \"y\": {\"field\": \"share_in_ttl_trnsc\", \"type\": \"quantitative\"}}, \"params\": [{\"name\": \"param_3\", \"select\": {\"type\": \"interval\", \"encodings\": [\"x\", \"y\"]}, \"bind\": \"scales\"}], \"$schema\": \"https://vega.github.io/schema/vega-lite/v5.20.1.json\", \"datasets\": {\"data-a3c0d53c0dd11684e27a764609152300\": [{\"transaction_type\": \"POS\", \"transaction_amount_kzt\": 93948218094.59901, \"share_in_ttl_trnsc\": 0.40380040108549375}, {\"transaction_type\": \"ECOM\", \"transaction_amount_kzt\": 40676086215.93013, \"share_in_ttl_trnsc\": 0.1748305637052308}, {\"transaction_type\": \"ATM_WITHDRAWAL\", \"transaction_amount_kzt\": 38492500000.0, \"share_in_ttl_trnsc\": 0.16544525541860103}, {\"transaction_type\": \"BILL_PAYMENT\", \"transaction_amount_kzt\": 32141885135.64014, \"share_in_ttl_trnsc\": 0.1381495718880644}, {\"transaction_type\": \"P2P_OUT\", \"transaction_amount_kzt\": 11697332903.66996, \"share_in_ttl_trnsc\": 0.05027650139544281}, {\"transaction_type\": \"P2P_IN\", \"transaction_amount_kzt\": 10895237346.510033, \"share_in_ttl_trnsc\": 0.04682900112072828}, {\"transaction_type\": \"SALARY\", \"transaction_amount_kzt\": 4808781854.0, \"share_in_ttl_trnsc\": 0.020668705386435376}]}}, {\"mode\": \"vega-lite\"});\n",
       "</script>"
      ],
      "text/plain": [
       "alt.Chart(...)"
      ]
     },
     "execution_count": 8,
     "metadata": {},
     "output_type": "execute_result"
    }
   ],
   "source": [
    "transactions_by_type = (data.group_by(\"transaction_type\")\n",
    "                                .agg(pl.col(\"transaction_amount_kzt\").sum())\n",
    "                                .with_columns(\n",
    "                                    (pl.col(\"transaction_amount_kzt\")/total_transactions).alias(\"share_in_ttl_trnsc\"))\n",
    "                                .sort(by=\"share_in_ttl_trnsc\", descending=True))\n",
    "\n",
    "transactions_by_type.plot.bar(x=\"transaction_type\", y = \"share_in_ttl_trnsc\")"
   ]
  },
  {
   "cell_type": "code",
   "execution_count": 49,
   "id": "ee1e280a",
   "metadata": {},
   "outputs": [],
   "source": [
    "reference_date = pl.lit(\"2025-01-01\").str.to_date()\n",
    "\n",
    "\n",
    "clustering_data = data.group_by(\"card_id\").agg(\n",
    "    (reference_date - pl.col(\"transaction_timestamp\").max()).dt.total_hours().alias(\"last_trans\"),\n",
    "    (pl.col(\"transaction_timestamp\").max() - pl.col(\"transaction_timestamp\").min()).dt.total_days().alias(\"use_dur\"),\n",
    "    (pl.col(\"transaction_amount_kzt\").sum()).alias(\"total_trans\"),\n",
    "    (pl.col(\"transaction_amount_kzt\").count()).alias(\"number_trans\"),\n",
    "    (pl.col(\"transaction_amount_kzt\").mean()).alias(\"avg_trans\")\n",
    ").with_columns(\n",
    "    daily_turnover = pl.col(\"number_trans\")/pl.col(\"use_dur\")\n",
    ")"
   ]
  },
  {
   "cell_type": "code",
   "execution_count": 51,
   "id": "dc4ef348",
   "metadata": {},
   "outputs": [
    {
     "data": {
      "text/html": [
       "<div><style>\n",
       ".dataframe > thead > tr,\n",
       ".dataframe > tbody > tr {\n",
       "  text-align: right;\n",
       "  white-space: pre-wrap;\n",
       "}\n",
       "</style>\n",
       "<small>shape: (1, 7)</small><table border=\"1\" class=\"dataframe\"><thead><tr><th>card_id</th><th>last_trans</th><th>use_dur</th><th>total_trans</th><th>number_trans</th><th>avg_trans</th><th>daily_turnover</th></tr><tr><td>u32</td><td>u32</td><td>u32</td><td>u32</td><td>u32</td><td>u32</td><td>u32</td></tr></thead><tbody><tr><td>0</td><td>0</td><td>0</td><td>0</td><td>0</td><td>0</td><td>0</td></tr></tbody></table></div>"
      ],
      "text/plain": [
       "shape: (1, 7)\n",
       "┌─────────┬────────────┬─────────┬─────────────┬──────────────┬───────────┬────────────────┐\n",
       "│ card_id ┆ last_trans ┆ use_dur ┆ total_trans ┆ number_trans ┆ avg_trans ┆ daily_turnover │\n",
       "│ ---     ┆ ---        ┆ ---     ┆ ---         ┆ ---          ┆ ---       ┆ ---            │\n",
       "│ u32     ┆ u32        ┆ u32     ┆ u32         ┆ u32          ┆ u32       ┆ u32            │\n",
       "╞═════════╪════════════╪═════════╪═════════════╪══════════════╪═══════════╪════════════════╡\n",
       "│ 0       ┆ 0          ┆ 0       ┆ 0           ┆ 0            ┆ 0         ┆ 0              │\n",
       "└─────────┴────────────┴─────────┴─────────────┴──────────────┴───────────┴────────────────┘"
      ]
     },
     "execution_count": 51,
     "metadata": {},
     "output_type": "execute_result"
    }
   ],
   "source": [
    "clustering_data"
   ]
  },
  {
   "cell_type": "code",
   "execution_count": null,
   "id": "4eb0a4ae",
   "metadata": {},
   "outputs": [],
   "source": [
    "dictionary = pl.DataFrame(\n",
    "    schema={\n",
    "        \"column_name\": pl.String,\n",
    "        \"description\": pl.String\n",
    "    }\n",
    ")\n",
    "\n",
    "\n",
    "def add_column_group(clustering_data, column, name, null_des = None):\n",
    "    # creating a dataframe by merchant category total tranactions\n",
    "    column_transactions = data.pivot(\n",
    "        values=\"transaction_amount_kzt\",\n",
    "        index=\"card_id\",\n",
    "        on=column,\n",
    "        aggregate_function=\"sum\").fill_null(0).rename(lambda c: f\"{name}_{c}\" if c !=\"card_id\" else c)\n",
    "\n",
    "    # adding description to dictionary\n",
    "    if null_des:\n",
    "        types = [f\"{\"name\"}_{c}\" for c in data.get_column(column).unique()]\n",
    "        descriptions = [f\"total transactions by {type_}\" if type_ else f\"total transactions by {null_des}\" for type_ in types]\n",
    "        dictionary.vstack(pl.DataFrame({\"column_name\": types,\n",
    "                                        \"description\": descriptions}),\n",
    "                        in_place=True)\n",
    "    else:\n",
    "        types = [f\"{\"name\"}_{c}\" for c in data.get_column(column).unique()]\n",
    "        descriptions = [f\"total transactions by {type_}\" for type_ in types]\n",
    "        dictionary.vstack(pl.DataFrame({\"column_name\": types,\n",
    "                                        \"description\": descriptions}),\n",
    "                        in_place=True)\n",
    "        \n",
    "    # joining the column transactions\n",
    "    return clustering_data.join(column_transactions, on=\"card_id\", how=\"left\")\n",
    "        "
   ]
  },
  {
   "cell_type": "code",
   "execution_count": null,
   "id": "3ea92291",
   "metadata": {},
   "outputs": [],
   "source": [
    "clustering_data = add_column_group(clustering_data, \"wallet_type\", \"wallet\", \"regular card\")"
   ]
  },
  {
   "cell_type": "code",
   "execution_count": 71,
   "id": "5777611f",
   "metadata": {},
   "outputs": [
    {
     "data": {
      "text/html": [
       "<div><style>\n",
       ".dataframe > thead > tr,\n",
       ".dataframe > tbody > tr {\n",
       "  text-align: right;\n",
       "  white-space: pre-wrap;\n",
       "}\n",
       "</style>\n",
       "<small>shape: (2_000, 49)</small><table border=\"1\" class=\"dataframe\"><thead><tr><th>card_id</th><th>last_trans</th><th>use_dur</th><th>total_trans</th><th>number_trans</th><th>avg_trans</th><th>daily_turnover</th><th>pos_Contactless</th><th>pos_QR_Code</th><th>pos_null</th><th>pos_ECOM</th><th>pos_Swipe</th><th>pos_Chip</th><th>type_POS</th><th>type_BILL_PAYMENT</th><th>type_ECOM</th><th>type_ATM_WITHDRAWAL</th><th>type_P2P_OUT</th><th>type_P2P_IN</th><th>type_SALARY</th><th>category_Grocery &amp; Food Markets</th><th>category_Utilities &amp; Bill Payments</th><th>category_Pharmacies &amp; Health</th><th>category_General Retail &amp; Department</th><th>category_Unknown</th><th>category_Services (Other)</th><th>category_Electronics &amp; Software</th><th>category_Dining &amp; Restaurants</th><th>category_Clothing &amp; Apparel</th><th>category_Travel &amp; Transportation</th><th>category_Hobby, Books, Sporting Goods</th><th>category_Fuel &amp; Service Stations</th><th>category_Home Furnishings &amp; Supplies</th><th>wallet_Apple Pay</th><th>wallet_Bank&#x27;s QR</th><th>wallet_null</th><th>wallet_Samsung Pay</th><th>wallet_Google Pay</th><th>in_KZT</th><th>in_TRY</th><th>in_CNY</th><th>in_AED</th><th>in_AMD</th><th>in_BYN</th><th>in_KGS</th><th>in_UZS</th><th>in_USD</th><th>in_GEL</th><th>in_EUR</th></tr><tr><td>i64</td><td>i64</td><td>i64</td><td>f64</td><td>u32</td><td>f64</td><td>f64</td><td>f64</td><td>f64</td><td>f64</td><td>f64</td><td>f64</td><td>f64</td><td>f64</td><td>f64</td><td>f64</td><td>f64</td><td>f64</td><td>f64</td><td>f64</td><td>f64</td><td>f64</td><td>f64</td><td>f64</td><td>f64</td><td>f64</td><td>f64</td><td>f64</td><td>f64</td><td>f64</td><td>f64</td><td>f64</td><td>f64</td><td>f64</td><td>f64</td><td>f64</td><td>f64</td><td>f64</td><td>f64</td><td>f64</td><td>f64</td><td>f64</td><td>f64</td><td>f64</td><td>f64</td><td>f64</td><td>f64</td><td>f64</td><td>f64</td></tr></thead><tbody><tr><td>10260</td><td>0</td><td>25</td><td>1.2131e7</td><td>862</td><td>14073.649652</td><td>34.48</td><td>5.2399e6</td><td>3.5246e6</td><td>0.0</td><td>599045.17</td><td>662766.99</td><td>2.1052e6</td><td>8.8304e6</td><td>0.0</td><td>599045.17</td><td>2.702e6</td><td>0.0</td><td>0.0</td><td>0.0</td><td>1.1483e6</td><td>825538.47</td><td>85266.94</td><td>1.0138e6</td><td>2.702e6</td><td>1.7330e6</td><td>591216.55</td><td>639835.96</td><td>1.3085e6</td><td>1332471.6</td><td>11900.5</td><td>596732.96</td><td>142930.21</td><td>931262.85</td><td>3.5246e6</td><td>4.0370e6</td><td>1988663.4</td><td>1.6500e6</td><td>1.2131e7</td><td>0.0</td><td>0.0</td><td>0.0</td><td>0.0</td><td>0.0</td><td>0.0</td><td>0.0</td><td>0.0</td><td>0.0</td><td>0.0</td></tr><tr><td>11960</td><td>7336</td><td>160</td><td>4.6901e7</td><td>2639</td><td>17772.234494</td><td>16.49375</td><td>9.9617e6</td><td>8.0929e6</td><td>1.3308e7</td><td>6.3541e6</td><td>710406.26</td><td>8.4734e6</td><td>1.9598e7</td><td>6.7623e6</td><td>6.3541e6</td><td>7.641e6</td><td>2.3329e6</td><td>2328647.6</td><td>1.884476e6</td><td>1.4465e6</td><td>8.6215e6</td><td>135502.04</td><td>1.9188e6</td><td>1.4187e7</td><td>4.9350e6</td><td>7.9532e6</td><td>195874.86</td><td>4.2271e6</td><td>1.0474e6</td><td>401123.28</td><td>1.2101e6</td><td>621814.4</td><td>3.5701e6</td><td>8.0929e6</td><td>2.6124e7</td><td>4.6991e6</td><td>4414657.8</td><td>4.6901e7</td><td>0.0</td><td>0.0</td><td>0.0</td><td>0.0</td><td>0.0</td><td>0.0</td><td>0.0</td><td>0.0</td><td>0.0</td><td>0.0</td></tr><tr><td>11013</td><td>1</td><td>679</td><td>2.9265e8</td><td>18003</td><td>16255.828334</td><td>26.513991</td><td>2.1544e7</td><td>2.1923e7</td><td>1.0650e8</td><td>1.2581e8</td><td>486503.71</td><td>1.6390e7</td><td>2.9829e7</td><td>1.2888e7</td><td>1.2581e8</td><td>3.0514e7</td><td>4.6697e7</td><td>4.2552e7</td><td>4.365944e6</td><td>1.1219e7</td><td>1.4697e7</td><td>996037.74</td><td>7.1283e7</td><td>1.2413e8</td><td>2.2946e7</td><td>1.0023e7</td><td>1.6498e6</td><td>2.8941e6</td><td>7.8050e6</td><td>630595.96</td><td>2.0563e7</td><td>3.8188e6</td><td>4.9164e7</td><td>2.1923e7</td><td>1.3939e8</td><td>3.8012e7</td><td>4.4165e7</td><td>2.9245e8</td><td>10154.7</td><td>0.0</td><td>10550.6</td><td>30959.39</td><td>31141.81</td><td>14018.04</td><td>55020.3</td><td>25167.23</td><td>0.0</td><td>28633.5</td></tr><tr><td>11016</td><td>0</td><td>688</td><td>5.6008e8</td><td>18026</td><td>31070.575257</td><td>26.200581</td><td>2.6147e7</td><td>5.2130e7</td><td>1.2384e8</td><td>3.3830e8</td><td>1.8481e6</td><td>1.7808e7</td><td>6.9325e7</td><td>2.7906e7</td><td>3.3830e8</td><td>2.8608e7</td><td>4.5299e7</td><td>4.6119e7</td><td>4.519116e6</td><td>4.5624e6</td><td>5.3521e7</td><td>6.1834e6</td><td>4.2119e6</td><td>1.2455e8</td><td>2.0843e8</td><td>1.0454e7</td><td>4.0821e6</td><td>3.4714e6</td><td>1.2318e8</td><td>1.2077e7</td><td>1.4088e6</td><td>3.9570e6</td><td>1.3854e8</td><td>5.2130e7</td><td>1.5731e8</td><td>1.0487e8</td><td>1.0722e8</td><td>5.5812e8</td><td>18772.18</td><td>100799.46</td><td>981913.77</td><td>0.0</td><td>337510.78</td><td>119342.96</td><td>203627.95</td><td>92356.47</td><td>52138.73</td><td>54181.01</td></tr><tr><td>10644</td><td>7334</td><td>283</td><td>5.9993e6</td><td>162</td><td>37032.774815</td><td>0.572438</td><td>779030.86</td><td>501126.89</td><td>3.3850e6</td><td>317011.66</td><td>7612.2</td><td>1.0095e6</td><td>780316.56</td><td>842768.86</td><td>317011.66</td><td>1.517e6</td><td>61996.67</td><td>236305.77</td><td>2.24391e6</td><td>92157.99</td><td>842768.86</td><td>4688.25</td><td>29964.23</td><td>4.0592e6</td><td>186820.47</td><td>355937.94</td><td>5375.21</td><td>127011.56</td><td>260588.78</td><td>0.0</td><td>34783.79</td><td>0.0</td><td>28559.68</td><td>501126.89</td><td>5.0801e6</td><td>156578.83</td><td>232904.01</td><td>5.9993e6</td><td>0.0</td><td>0.0</td><td>0.0</td><td>0.0</td><td>0.0</td><td>0.0</td><td>0.0</td><td>0.0</td><td>0.0</td><td>0.0</td></tr><tr><td>&hellip;</td><td>&hellip;</td><td>&hellip;</td><td>&hellip;</td><td>&hellip;</td><td>&hellip;</td><td>&hellip;</td><td>&hellip;</td><td>&hellip;</td><td>&hellip;</td><td>&hellip;</td><td>&hellip;</td><td>&hellip;</td><td>&hellip;</td><td>&hellip;</td><td>&hellip;</td><td>&hellip;</td><td>&hellip;</td><td>&hellip;</td><td>&hellip;</td><td>&hellip;</td><td>&hellip;</td><td>&hellip;</td><td>&hellip;</td><td>&hellip;</td><td>&hellip;</td><td>&hellip;</td><td>&hellip;</td><td>&hellip;</td><td>&hellip;</td><td>&hellip;</td><td>&hellip;</td><td>&hellip;</td><td>&hellip;</td><td>&hellip;</td><td>&hellip;</td><td>&hellip;</td><td>&hellip;</td><td>&hellip;</td><td>&hellip;</td><td>&hellip;</td><td>&hellip;</td><td>&hellip;</td><td>&hellip;</td><td>&hellip;</td><td>&hellip;</td><td>&hellip;</td><td>&hellip;</td><td>&hellip;</td></tr><tr><td>11376</td><td>735</td><td>49</td><td>2.5154e6</td><td>245</td><td>10267.081592</td><td>5.0</td><td>229000.0</td><td>91710.96</td><td>429715.74</td><td>1.4950e6</td><td>0.0</td><td>270000.0</td><td>91710.96</td><td>218343.74</td><td>1.4950e6</td><td>499000.0</td><td>0.0</td><td>0.0</td><td>211372.0</td><td>92211.99</td><td>231078.9</td><td>144411.07</td><td>872510.57</td><td>710372.0</td><td>64942.81</td><td>57256.75</td><td>16589.61</td><td>16447.81</td><td>27037.59</td><td>15320.48</td><td>267255.41</td><td>0.0</td><td>670012.64</td><td>91710.96</td><td>928715.74</td><td>410035.92</td><td>414959.73</td><td>2.5154e6</td><td>0.0</td><td>0.0</td><td>0.0</td><td>0.0</td><td>0.0</td><td>0.0</td><td>0.0</td><td>0.0</td><td>0.0</td><td>0.0</td></tr><tr><td>10090</td><td>0</td><td>504</td><td>1.8800e8</td><td>6292</td><td>29879.686637</td><td>12.484127</td><td>8.4616e7</td><td>5.7977e6</td><td>1.3631e7</td><td>0.0</td><td>480884.43</td><td>8.3478e7</td><td>1.2798e7</td><td>1.2043e7</td><td>0.0</td><td>1.61574e8</td><td>0.0</td><td>0.0</td><td>1.588063e6</td><td>1.5822e6</td><td>1.2251e7</td><td>21187.58</td><td>211230.57</td><td>1.63162063e8</td><td>8.8865e6</td><td>595253.91</td><td>66010.29</td><td>77513.8</td><td>532372.46</td><td>17707.69</td><td>71374.63</td><td>528470.21</td><td>1.3176e6</td><td>5.7977e6</td><td>1.7729e8</td><td>1.5739e6</td><td>2.0236e6</td><td>1.8800e8</td><td>0.0</td><td>0.0</td><td>0.0</td><td>0.0</td><td>0.0</td><td>0.0</td><td>0.0</td><td>0.0</td><td>0.0</td><td>0.0</td></tr><tr><td>10054</td><td>2</td><td>637</td><td>2.1538e8</td><td>5631</td><td>38249.132566</td><td>8.839874</td><td>1.1886e7</td><td>1.5700e7</td><td>1.6350e8</td><td>1.7028e7</td><td>315874.25</td><td>6.9548e6</td><td>2.5095e7</td><td>1.5813e8</td><td>1.7028e7</td><td>9.761e6</td><td>0.0</td><td>0.0</td><td>5.362414e6</td><td>5.1662e6</td><td>1.5834e8</td><td>691843.27</td><td>1.1384e7</td><td>1.5123414e7</td><td>9.8707e6</td><td>2.7654e6</td><td>637113.88</td><td>2.6404e6</td><td>2315339.4</td><td>72059.51</td><td>324871.85</td><td>6.0446e6</td><td>6.7694e6</td><td>1.5700e7</td><td>1.7542e8</td><td>1.2359e7</td><td>5.1325e6</td><td>2.1535e8</td><td>0.0</td><td>0.0</td><td>0.0</td><td>0.0</td><td>0.0</td><td>0.0</td><td>0.0</td><td>27086.77</td><td>0.0</td><td>0.0</td></tr><tr><td>11632</td><td>0</td><td>389</td><td>3.2175e7</td><td>2582</td><td>12461.275616</td><td>6.637532</td><td>0.0</td><td>0.0</td><td>3.2175e7</td><td>0.0</td><td>0.0</td><td>0.0</td><td>0.0</td><td>2.9954e7</td><td>0.0</td><td>0.0</td><td>0.0</td><td>0.0</td><td>2.220674e6</td><td>0.0</td><td>2.9954e7</td><td>0.0</td><td>0.0</td><td>2.220674e6</td><td>0.0</td><td>0.0</td><td>0.0</td><td>0.0</td><td>0.0</td><td>0.0</td><td>0.0</td><td>0.0</td><td>0.0</td><td>0.0</td><td>3.2175e7</td><td>0.0</td><td>0.0</td><td>3.2175e7</td><td>0.0</td><td>0.0</td><td>0.0</td><td>0.0</td><td>0.0</td><td>0.0</td><td>0.0</td><td>0.0</td><td>0.0</td><td>0.0</td></tr><tr><td>11784</td><td>0</td><td>314</td><td>1.2654e8</td><td>15360</td><td>8238.310065</td><td>48.917197</td><td>3.5330e7</td><td>5.4715e7</td><td>1.2354e7</td><td>2.0208e6</td><td>2.9191e6</td><td>1.9200e7</td><td>9.1264e7</td><td>4.5777e6</td><td>2.0208e6</td><td>2.0901e7</td><td>2.5988e6</td><td>3.0720e6</td><td>2.105875e6</td><td>2.7514e7</td><td>5.7064e6</td><td>3.3013e7</td><td>2.8917e6</td><td>2.8678e7</td><td>1.1684e7</td><td>4.4941e6</td><td>918566.68</td><td>1.9468e6</td><td>4.6815e6</td><td>671291.42</td><td>843292.99</td><td>3.4983e6</td><td>7.7868e6</td><td>5.4715e7</td><td>4.5144e7</td><td>1.0829e7</td><td>8.0654e6</td><td>1.2654e8</td><td>0.0</td><td>0.0</td><td>0.0</td><td>0.0</td><td>0.0</td><td>0.0</td><td>0.0</td><td>0.0</td><td>0.0</td><td>0.0</td></tr></tbody></table></div>"
      ],
      "text/plain": [
       "shape: (2_000, 49)\n",
       "┌─────────┬────────────┬─────────┬─────────────┬───┬───────────┬──────────┬──────────┬──────────┐\n",
       "│ card_id ┆ last_trans ┆ use_dur ┆ total_trans ┆ … ┆ in_UZS    ┆ in_USD   ┆ in_GEL   ┆ in_EUR   │\n",
       "│ ---     ┆ ---        ┆ ---     ┆ ---         ┆   ┆ ---       ┆ ---      ┆ ---      ┆ ---      │\n",
       "│ i64     ┆ i64        ┆ i64     ┆ f64         ┆   ┆ f64       ┆ f64      ┆ f64      ┆ f64      │\n",
       "╞═════════╪════════════╪═════════╪═════════════╪═══╪═══════════╪══════════╪══════════╪══════════╡\n",
       "│ 10260   ┆ 0          ┆ 25      ┆ 1.2131e7    ┆ … ┆ 0.0       ┆ 0.0      ┆ 0.0      ┆ 0.0      │\n",
       "│ 11960   ┆ 7336       ┆ 160     ┆ 4.6901e7    ┆ … ┆ 0.0       ┆ 0.0      ┆ 0.0      ┆ 0.0      │\n",
       "│ 11013   ┆ 1          ┆ 679     ┆ 2.9265e8    ┆ … ┆ 55020.3   ┆ 25167.23 ┆ 0.0      ┆ 28633.5  │\n",
       "│ 11016   ┆ 0          ┆ 688     ┆ 5.6008e8    ┆ … ┆ 203627.95 ┆ 92356.47 ┆ 52138.73 ┆ 54181.01 │\n",
       "│ 10644   ┆ 7334       ┆ 283     ┆ 5.9993e6    ┆ … ┆ 0.0       ┆ 0.0      ┆ 0.0      ┆ 0.0      │\n",
       "│ …       ┆ …          ┆ …       ┆ …           ┆ … ┆ …         ┆ …        ┆ …        ┆ …        │\n",
       "│ 11376   ┆ 735        ┆ 49      ┆ 2.5154e6    ┆ … ┆ 0.0       ┆ 0.0      ┆ 0.0      ┆ 0.0      │\n",
       "│ 10090   ┆ 0          ┆ 504     ┆ 1.8800e8    ┆ … ┆ 0.0       ┆ 0.0      ┆ 0.0      ┆ 0.0      │\n",
       "│ 10054   ┆ 2          ┆ 637     ┆ 2.1538e8    ┆ … ┆ 0.0       ┆ 27086.77 ┆ 0.0      ┆ 0.0      │\n",
       "│ 11632   ┆ 0          ┆ 389     ┆ 3.2175e7    ┆ … ┆ 0.0       ┆ 0.0      ┆ 0.0      ┆ 0.0      │\n",
       "│ 11784   ┆ 0          ┆ 314     ┆ 1.2654e8    ┆ … ┆ 0.0       ┆ 0.0      ┆ 0.0      ┆ 0.0      │\n",
       "└─────────┴────────────┴─────────┴─────────────┴───┴───────────┴──────────┴──────────┴──────────┘"
      ]
     },
     "execution_count": 71,
     "metadata": {},
     "output_type": "execute_result"
    }
   ],
   "source": [
    "look_up = pl.read_parquet(\"data/clustering_data.parquet\")\n",
    "look_up"
   ]
  }
 ],
 "metadata": {
  "kernelspec": {
   "display_name": ".venv",
   "language": "python",
   "name": "python3"
  },
  "language_info": {
   "codemirror_mode": {
    "name": "ipython",
    "version": 3
   },
   "file_extension": ".py",
   "mimetype": "text/x-python",
   "name": "python",
   "nbconvert_exporter": "python",
   "pygments_lexer": "ipython3",
   "version": "3.12.10"
  }
 },
 "nbformat": 4,
 "nbformat_minor": 5
}
